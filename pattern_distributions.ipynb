{
 "cells": [
  {
   "cell_type": "code",
   "execution_count": 1,
   "id": "bfc9330e-ea71-40e2-a3d5-2cab69cfd6e0",
   "metadata": {},
   "outputs": [
    {
     "data": {
      "application/vnd.jupyter.widget-view+json": {
       "model_id": "895e8b4d8e0445f09d66b7e0fae96fb4",
       "version_major": 2,
       "version_minor": 0
      },
      "text/plain": []
     },
     "metadata": {},
     "output_type": "display_data"
    },
    {
     "name": "stderr",
     "output_type": "stream",
     "text": [
      "/home/bb596/ssd/miniforge3/envs/csd/lib/python3.9/site-packages/sklearn/utils/multiclass.py:14: DeprecationWarning: Please use `spmatrix` from the `scipy.sparse` namespace, the `scipy.sparse.base` namespace is deprecated.\n",
      "  from scipy.sparse.base import spmatrix\n",
      "/home/bb596/ssd/miniforge3/envs/csd/lib/python3.9/site-packages/sklearn/utils/optimize.py:18: DeprecationWarning: Please use `line_search_wolfe2` from the `scipy.optimize` namespace, the `scipy.optimize.linesearch` namespace is deprecated.\n",
      "  from scipy.optimize.linesearch import line_search_wolfe2, line_search_wolfe1\n",
      "/home/bb596/ssd/miniforge3/envs/csd/lib/python3.9/site-packages/sklearn/utils/optimize.py:18: DeprecationWarning: Please use `line_search_wolfe1` from the `scipy.optimize` namespace, the `scipy.optimize.linesearch` namespace is deprecated.\n",
      "  from scipy.optimize.linesearch import line_search_wolfe2, line_search_wolfe1\n"
     ]
    }
   ],
   "source": [
    "import pickle\n",
    "import seaborn as sns\n",
    "import matplotlib.pyplot as plt\n",
    "import numpy as np\n",
    "\n",
    "from tqdm import tqdm\n",
    "from rdkit import Chem\n",
    "from scipy.stats import norm\n",
    "from genbench3d.geometry import AnglePattern, TorsionPattern, BondPattern\n",
    "from ccdc import io\n",
    "from genbench3d.params import CSD_DRUG_SUBSET_PATH\n",
    "from genbench3d.utils import ccdc_mol_to_rdkit_mol\n",
    "from genbench3d.geometry import CSDDrugGeometry\n",
    "from tqdm import tqdm\n",
    "from ccdc.io import Molecule\n",
    "from rdkit.Chem import Mol"
   ]
  },
  {
   "cell_type": "code",
   "execution_count": 2,
   "id": "9c42afde-1432-4cbe-94c3-26a230f6838a",
   "metadata": {},
   "outputs": [],
   "source": [
    "def plot_mixture(mixture):\n",
    "    n_samples_total = 100000\n",
    "    all_samples = []\n",
    "\n",
    "    means = mixture.means_.reshape(-1)\n",
    "    pis = mixture.weights_.reshape(-1)\n",
    "    stds = mixture.covariances_.reshape(-1)\n",
    "    for pi, mean, std in zip(pis, means, stds):\n",
    "        n_samples = int(pi * n_samples_total)\n",
    "        # print(n_samples, np.around(mean, 2), np.around(std, 2))\n",
    "        samples = norm(loc=mean, scale=np.sqrt(std)).rvs(n_samples)\n",
    "        all_samples.extend(samples)\n",
    "        \n",
    "    sns.histplot(all_samples)\n",
    "    plt.show()\n",
    "    \n",
    "    return all_samples"
   ]
  },
  {
   "cell_type": "code",
   "execution_count": 3,
   "id": "1bab222b-1e2c-449d-ba2b-22c841ef6cc1",
   "metadata": {
    "scrolled": true
   },
   "outputs": [],
   "source": [
    "rg = CSDDrugGeometry()"
   ]
  },
  {
   "cell_type": "code",
   "execution_count": 4,
   "id": "b55c0a48-638b-413a-b088-539c6a644d81",
   "metadata": {},
   "outputs": [
    {
     "data": {
      "text/plain": [
       "4552"
      ]
     },
     "execution_count": 4,
     "metadata": {},
     "output_type": "execute_result"
    }
   ],
   "source": [
    "len(rg.mixtures['torsion'])"
   ]
  },
  {
   "cell_type": "code",
   "execution_count": 4,
   "id": "91072a98-6577-4549-8008-44d0fc24bffb",
   "metadata": {},
   "outputs": [],
   "source": [
    "with open('../hdd/ThreeDGenMolBenchmark/data/CSDDrug_geometry_values.p', 'rb') as f:\n",
    "    values = pickle.load(f)"
   ]
  },
  {
   "cell_type": "code",
   "execution_count": 78,
   "id": "9157fce3-6e2d-4e1b-a6b5-96b3bbd965fd",
   "metadata": {},
   "outputs": [],
   "source": [
    "pattern_str = 'N{6,6,5,5,5}(~C,-H)~C{6,6,5,5,5}(~C)~C{6,6,5,5,5}(~N,~C)'\n",
    "pattern = AnglePattern.from_string(pattern_str)"
   ]
  },
  {
   "cell_type": "code",
   "execution_count": 79,
   "id": "36a24dc1-4471-47ed-b473-4d9d6bdabbdb",
   "metadata": {},
   "outputs": [],
   "source": [
    "try:\n",
    "    geometry_mixture = rg.mixtures['angle'][pattern]\n",
    "except:\n",
    "    geometry_mixture = rg.mixtures['angle'][pattern.generalize()]\n",
    "geometry_values = values['angle'][pattern]"
   ]
  },
  {
   "cell_type": "code",
   "execution_count": 80,
   "id": "36649928-19b2-465c-b0d0-e62f54101619",
   "metadata": {},
   "outputs": [
    {
     "name": "stderr",
     "output_type": "stream",
     "text": [
      "/home/bb596/ssd/miniforge3/envs/csd/lib/python3.9/site-packages/pandas/core/algorithms.py:485: DeprecationWarning: np.find_common_type is deprecated.  Please use `np.result_type` or `np.promote_types`.\n",
      "See https://numpy.org/devdocs/release/1.25.0-notes.html and the docs for more information.  (Deprecated NumPy 1.25)\n",
      "  common = np.find_common_type([values.dtype, comps.dtype], [])\n"
     ]
    },
    {
     "data": {
      "text/plain": [
       "<Axes: ylabel='Count'>"
      ]
     },
     "execution_count": 80,
     "metadata": {},
     "output_type": "execute_result"
    },
    {
     "data": {
      "image/png": "[encoded data removed]",
      "text/plain": [
       "<Figure size 640x480 with 1 Axes>"
      ]
     },
     "metadata": {},
     "output_type": "display_data"
    }
   ],
   "source": [
    "sns.histplot(geometry_values, bins=100)"
   ]
  },
  {
   "cell_type": "code",
   "execution_count": 81,
   "id": "0d920b71-c4b1-4018-8d13-a7c9d1c094f3",
   "metadata": {
    "scrolled": true
   },
   "outputs": [
    {
     "name": "stderr",
     "output_type": "stream",
     "text": [
      "/home/bb596/ssd/miniforge3/envs/csd/lib/python3.9/site-packages/pandas/core/algorithms.py:485: DeprecationWarning: np.find_common_type is deprecated.  Please use `np.result_type` or `np.promote_types`.\n",
      "See https://numpy.org/devdocs/release/1.25.0-notes.html and the docs for more information.  (Deprecated NumPy 1.25)\n",
      "  common = np.find_common_type([values.dtype, comps.dtype], [])\n"
     ]
    },
    {
     "data": {
      "image/png": "[encoded data removed]",
      "text/plain": [
       "<Figure size 640x480 with 1 Axes>"
      ]
     },
     "metadata": {},
     "output_type": "display_data"
    }
   ],
   "source": [
    "mixture = geometry_mixture.mixture\n",
    "samples = plot_mixture(mixture)"
   ]
  },
  {
   "cell_type": "code",
   "execution_count": 69,
   "id": "2d7cfc84-b373-47b6-8027-dee2a370ae67",
   "metadata": {},
   "outputs": [
    {
     "data": {
      "text/plain": [
       "array([[121.01411786]])"
      ]
     },
     "execution_count": 69,
     "metadata": {},
     "output_type": "execute_result"
    }
   ],
   "source": [
    "mixture.means_"
   ]
  },
  {
   "cell_type": "code",
   "execution_count": 82,
   "id": "0450e71d-56ca-4e8a-aa9d-a29c5c36c6a2",
   "metadata": {},
   "outputs": [
    {
     "name": "stderr",
     "output_type": "stream",
     "text": [
      "/home/bb596/ssd/miniforge3/envs/csd/lib/python3.9/site-packages/pandas/core/algorithms.py:485: DeprecationWarning: np.find_common_type is deprecated.  Please use `np.result_type` or `np.promote_types`.\n",
      "See https://numpy.org/devdocs/release/1.25.0-notes.html and the docs for more information.  (Deprecated NumPy 1.25)\n",
      "  common = np.find_common_type([values.dtype, comps.dtype], [])\n"
     ]
    },
    {
     "data": {
      "text/plain": [
       "<Axes: >"
      ]
     },
     "execution_count": 82,
     "metadata": {},
     "output_type": "execute_result"
    },
    {
     "data": {
      "image/png": "[encoded data removed]",
      "text/plain": [
       "<Figure size 640x480 with 1 Axes>"
      ]
     },
     "metadata": {},
     "output_type": "display_data"
    }
   ],
   "source": [
    "likelihoods = rg.get_likelihoods(mixture, samples)\n",
    "sns.lineplot(x=samples, y=likelihoods)"
   ]
  },
  {
   "cell_type": "code",
   "execution_count": 41,
   "id": "60a36c80-c6e8-41f9-b74d-b13cbb7c474a",
   "metadata": {},
   "outputs": [],
   "source": [
    "mol_iterator = io.MoleculeReader('CSD')\n",
    "subset_path = CSD_DRUG_SUBSET_PATH\n",
    "subset_csd_ids = []\n",
    "with open(subset_path, 'r') as f:\n",
    "    for line in f.readlines():\n",
    "        subset_csd_ids.append(line.strip())"
   ]
  },
  {
   "cell_type": "code",
   "execution_count": 46,
   "id": "de8c8bf9-ee1c-42bd-9a5e-435612ce294a",
   "metadata": {
    "scrolled": true
   },
   "outputs": [
    {
     "name": "stderr",
     "output_type": "stream",
     "text": [
      "  1%|█▌                                                                                                           | 126/8632 [00:03<03:24, 41.51it/s]"
     ]
    },
    {
     "name": "stdout",
     "output_type": "stream",
     "text": [
      "DatabasePool::entry( DatabaseEntryIdentifier )(): AKATAJ is not in the database\n"
     ]
    },
    {
     "name": "stderr",
     "output_type": "stream",
     "text": [
      "  2%|██▎                                                                                                          | 185/8632 [00:05<04:03, 34.71it/s]"
     ]
    },
    {
     "name": "stdout",
     "output_type": "stream",
     "text": [
      "DatabasePool::entry( DatabaseEntryIdentifier )(): FAJMIP is not in the database\n"
     ]
    },
    {
     "name": "stderr",
     "output_type": "stream",
     "text": [
      "  3%|██▊                                                                                                          | 220/8632 [00:06<03:54, 35.85it/s]"
     ]
    },
    {
     "name": "stdout",
     "output_type": "stream",
     "text": [
      "DatabasePool::entry( DatabaseEntryIdentifier )(): KONZEU is not in the database\n"
     ]
    },
    {
     "name": "stderr",
     "output_type": "stream",
     "text": [
      "  3%|███                                                                                                          | 240/8632 [00:07<03:23, 41.20it/s]"
     ]
    },
    {
     "name": "stdout",
     "output_type": "stream",
     "text": [
      "DatabasePool::entry( DatabaseEntryIdentifier )(): QIJZOY01 is not in the database\n"
     ]
    },
    {
     "name": "stderr",
     "output_type": "stream",
     "text": [
      "  5%|█████▎                                                                                                       | 417/8632 [00:12<04:28, 30.60it/s]"
     ]
    },
    {
     "name": "stdout",
     "output_type": "stream",
     "text": [
      "DatabasePool::entry( DatabaseEntryIdentifier )(): EDAXIQ01 is not in the database\n"
     ]
    },
    {
     "name": "stderr",
     "output_type": "stream",
     "text": [
      " 10%|██████████▊                                                                                                  | 853/8632 [00:26<04:32, 28.51it/s]"
     ]
    },
    {
     "name": "stdout",
     "output_type": "stream",
     "text": [
      "DatabasePool::entry( DatabaseEntryIdentifier )(): NICOAC04 is not in the database\n"
     ]
    },
    {
     "name": "stderr",
     "output_type": "stream",
     "text": [
      " 19%|████████████████████▊                                                                                       | 1667/8632 [00:53<03:15, 35.55it/s]"
     ]
    },
    {
     "name": "stdout",
     "output_type": "stream",
     "text": [
      "DatabasePool::entry( DatabaseEntryIdentifier )(): CBMZPN26 is not in the database\n"
     ]
    },
    {
     "name": "stderr",
     "output_type": "stream",
     "text": [
      " 21%|██████████████████████▌                                                                                     | 1807/8632 [00:57<03:02, 37.49it/s]"
     ]
    },
    {
     "name": "stdout",
     "output_type": "stream",
     "text": [
      "DatabasePool::entry( DatabaseEntryIdentifier )(): OMAKOE is not in the database\n"
     ]
    },
    {
     "name": "stderr",
     "output_type": "stream",
     "text": [
      " 22%|███████████████████████▎                                                                                    | 1868/8632 [00:59<02:42, 41.54it/s]"
     ]
    },
    {
     "name": "stdout",
     "output_type": "stream",
     "text": [
      "DatabasePool::entry( DatabaseEntryIdentifier )(): WOBHUR01 is not in the database\n"
     ]
    },
    {
     "name": "stderr",
     "output_type": "stream",
     "text": [
      " 26%|████████████████████████████▎                                                                               | 2267/8632 [01:11<03:21, 31.62it/s]\n"
     ]
    },
    {
     "ename": "KeyboardInterrupt",
     "evalue": "",
     "output_type": "error",
     "traceback": [
      "\u001b[0;31m---------------------------------------------------------------------------\u001b[0m",
      "\u001b[0;31mKeyboardInterrupt\u001b[0m                         Traceback (most recent call last)",
      "Cell \u001b[0;32mIn[46], line 20\u001b[0m\n\u001b[1;32m     17\u001b[0m \u001b[38;5;28;01massert\u001b[39;00m \u001b[38;5;28misinstance\u001b[39m(mol, Mol)\n\u001b[1;32m     18\u001b[0m Chem\u001b[38;5;241m.\u001b[39mSanitizeMol(mol)\n\u001b[0;32m---> 20\u001b[0m mol_angle_values \u001b[38;5;241m=\u001b[39m \u001b[43mrg\u001b[49m\u001b[38;5;241;43m.\u001b[39;49m\u001b[43mget_mol_angle_values\u001b[49m\u001b[43m(\u001b[49m\u001b[43mmol\u001b[49m\u001b[43m)\u001b[49m\n\u001b[1;32m     21\u001b[0m \u001b[38;5;28;01mfor\u001b[39;00m angle_pattern, angle_values \u001b[38;5;129;01min\u001b[39;00m mol_angle_values\u001b[38;5;241m.\u001b[39mitems():\n\u001b[1;32m     22\u001b[0m     \u001b[38;5;28;01mif\u001b[39;00m angle_pattern \u001b[38;5;241m==\u001b[39m pattern:\n\u001b[1;32m     23\u001b[0m         \u001b[38;5;66;03m# print(f'pattern found: {angle_values}')\u001b[39;00m\n",
      "File \u001b[0;32m~/genbench3d/genbench3d/geometry/reference_geometry.py:444\u001b[0m, in \u001b[0;36mReferenceGeometry.get_mol_angle_values\u001b[0;34m(self, mol)\u001b[0m\n\u001b[1;32m    437\u001b[0m \u001b[38;5;28;01mfor\u001b[39;00m begin_atom_idx, second_atom_idx, end_atom_idx \u001b[38;5;129;01min\u001b[39;00m angles_atom_ids :\n\u001b[1;32m    439\u001b[0m     angle_pattern \u001b[38;5;241m=\u001b[39m \u001b[38;5;28mself\u001b[39m\u001b[38;5;241m.\u001b[39mgeometry_extractor\u001b[38;5;241m.\u001b[39mget_angle_pattern(mol, \n\u001b[1;32m    440\u001b[0m                                                             begin_atom_idx, \n\u001b[1;32m    441\u001b[0m                                                             second_atom_idx, \n\u001b[1;32m    442\u001b[0m                                                             end_atom_idx)\n\u001b[0;32m--> 444\u001b[0m     \u001b[38;5;28;01mfor\u001b[39;00m conf \u001b[38;5;129;01min\u001b[39;00m mol\u001b[38;5;241m.\u001b[39mGetConformers():\n\u001b[1;32m    445\u001b[0m         angle_value \u001b[38;5;241m=\u001b[39m \u001b[38;5;28mself\u001b[39m\u001b[38;5;241m.\u001b[39mgeometry_extractor\u001b[38;5;241m.\u001b[39mget_angle_value(conf,\n\u001b[1;32m    446\u001b[0m                                                                 begin_atom_idx,\n\u001b[1;32m    447\u001b[0m                                                                 second_atom_idx,\n\u001b[1;32m    448\u001b[0m                                                                 end_atom_idx)\n\u001b[1;32m    449\u001b[0m         angle_values[angle_pattern]\u001b[38;5;241m.\u001b[39mappend(angle_value)\n",
      "\u001b[0;31mKeyboardInterrupt\u001b[0m: "
     ]
    }
   ],
   "source": [
    "writer = Chem.SDWriter('pattern_mols2.sdf')\n",
    "\n",
    "for csd_id in tqdm(subset_csd_ids):\n",
    "    try:\n",
    "        include = False\n",
    "        original_mol = mol_iterator.molecule(csd_id)\n",
    "        if isinstance(original_mol, Molecule):\n",
    "            try:\n",
    "                mol = ccdc_mol_to_rdkit_mol(original_mol)\n",
    "            except Exception as e:\n",
    "                logging.warning('CCDC mol could not be converted to RDKit :' + str(e))\n",
    "                mol = None\n",
    "        else:\n",
    "            mol = original_mol\n",
    "        \n",
    "        if mol is not None:\n",
    "            assert isinstance(mol, Mol)\n",
    "            Chem.SanitizeMol(mol)\n",
    "            \n",
    "            mol_angle_values = rg.get_mol_angle_values(mol)\n",
    "            for angle_pattern, angle_values in mol_angle_values.items():\n",
    "                if angle_pattern == pattern:\n",
    "                    # print(f'pattern found: {angle_values}')\n",
    "                    if any([value < 110 for value in angle_values]):\n",
    "                        include = True\n",
    "                        print(mol.GetProp('_Name'))\n",
    "\n",
    "        if include:\n",
    "            writer.write(mol)\n",
    "\n",
    "    except Exception as e:\n",
    "        print(e)\n",
    "\n",
    "writer.close()"
   ]
  },
  {
   "cell_type": "code",
   "execution_count": 109,
   "id": "625064e1-a6cd-433a-9e6b-89bcfd425462",
   "metadata": {},
   "outputs": [],
   "source": [
    "five_ring_smiles = 'C1=C([H])C([H])=C([H])N1'\n",
    "five_ring_mol = Chem.MolFromSmiles(five_ring_smiles, sanitize=False)"
   ]
  },
  {
   "cell_type": "code",
   "execution_count": 45,
   "id": "e40f161a-1123-4c09-b4f2-1cf16d5af65a",
   "metadata": {},
   "outputs": [
    {
     "data": {
      "image/png": "[encoded data removed]",
      "text/plain": [
       "<rdkit.Chem.rdchem.Mol at 0x7f9e126295f0>"
      ]
     },
     "metadata": {},
     "output_type": "display_data"
    }
   ],
   "source": [
    "display(five_ring_mol)"
   ]
  },
  {
   "cell_type": "code",
   "execution_count": 51,
   "id": "a01fad15-8186-4ed2-bd86-8f250db92005",
   "metadata": {
    "scrolled": true
   },
   "outputs": [
    {
     "name": "stderr",
     "output_type": "stream",
     "text": [
      "  1%|▊                                                                                                            | 67/8632 [00:00<00:26, 327.41it/s]"
     ]
    },
    {
     "name": "stdout",
     "output_type": "stream",
     "text": [
      "Python argument types in\n",
      "    rdkit.Chem.rdmolops.Kekulize(NoneType)\n",
      "did not match C++ signature:\n",
      "    Kekulize(RDKit::ROMol {lvalue} mol, bool clearAromaticFlags=False)\n"
     ]
    },
    {
     "name": "stderr",
     "output_type": "stream",
     "text": [
      "  2%|█▋                                                                                                          | 135/8632 [00:00<00:27, 314.20it/s]"
     ]
    },
    {
     "name": "stdout",
     "output_type": "stream",
     "text": [
      "Python argument types in\n",
      "    rdkit.Chem.rdmolops.Kekulize(NoneType)\n",
      "did not match C++ signature:\n",
      "    Kekulize(RDKit::ROMol {lvalue} mol, bool clearAromaticFlags=False)\n",
      "DatabasePool::entry( DatabaseEntryIdentifier )(): AKATAJ is not in the database\n"
     ]
    },
    {
     "name": "stderr",
     "output_type": "stream",
     "text": [
      "  3%|███                                                                                                         | 244/8632 [00:00<00:26, 312.10it/s]"
     ]
    },
    {
     "name": "stdout",
     "output_type": "stream",
     "text": [
      "Python argument types in\n",
      "    rdkit.Chem.rdmolops.Kekulize(NoneType)\n",
      "did not match C++ signature:\n",
      "    Kekulize(RDKit::ROMol {lvalue} mol, bool clearAromaticFlags=False)\n",
      "Python argument types in\n",
      "    rdkit.Chem.rdmolops.Kekulize(NoneType)\n",
      "did not match C++ signature:\n",
      "    Kekulize(RDKit::ROMol {lvalue} mol, bool clearAromaticFlags=False)\n",
      "DatabasePool::entry( DatabaseEntryIdentifier )(): FAJMIP is not in the database\n",
      "DatabasePool::entry( DatabaseEntryIdentifier )(): KONZEU is not in the database\n",
      "DatabasePool::entry( DatabaseEntryIdentifier )(): QIJZOY01 is not in the database\n"
     ]
    },
    {
     "name": "stderr",
     "output_type": "stream",
     "text": [
      "  4%|████▌                                                                                                       | 369/8632 [00:01<00:28, 286.13it/s]"
     ]
    },
    {
     "name": "stdout",
     "output_type": "stream",
     "text": [
      "Python argument types in\n",
      "    rdkit.Chem.rdmolops.Kekulize(NoneType)\n",
      "did not match C++ signature:\n",
      "    Kekulize(RDKit::ROMol {lvalue} mol, bool clearAromaticFlags=False)\n"
     ]
    },
    {
     "name": "stderr",
     "output_type": "stream",
     "text": [
      "  5%|█████▉                                                                                                      | 470/8632 [00:01<00:26, 308.45it/s]"
     ]
    },
    {
     "name": "stdout",
     "output_type": "stream",
     "text": [
      "DatabasePool::entry( DatabaseEntryIdentifier )(): EDAXIQ01 is not in the database\n"
     ]
    },
    {
     "name": "stderr",
     "output_type": "stream",
     "text": [
      "  6%|██████▋                                                                                                     | 532/8632 [00:01<00:27, 290.06it/s]"
     ]
    },
    {
     "name": "stdout",
     "output_type": "stream",
     "text": [
      "Python argument types in\n",
      "    rdkit.Chem.rdmolops.Kekulize(NoneType)\n",
      "did not match C++ signature:\n",
      "    Kekulize(RDKit::ROMol {lvalue} mol, bool clearAromaticFlags=False)\n"
     ]
    },
    {
     "name": "stderr",
     "output_type": "stream",
     "text": [
      "  8%|████████▌                                                                                                   | 686/8632 [00:02<00:30, 258.31it/s]"
     ]
    },
    {
     "name": "stdout",
     "output_type": "stream",
     "text": [
      "Python argument types in\n",
      "    rdkit.Chem.rdmolops.Kekulize(NoneType)\n",
      "did not match C++ signature:\n",
      "    Kekulize(RDKit::ROMol {lvalue} mol, bool clearAromaticFlags=False)\n"
     ]
    },
    {
     "name": "stderr",
     "output_type": "stream",
     "text": [
      "  9%|█████████▋                                                                                                  | 779/8632 [00:02<00:27, 286.27it/s]"
     ]
    },
    {
     "name": "stdout",
     "output_type": "stream",
     "text": [
      "Python argument types in\n",
      "    rdkit.Chem.rdmolops.Kekulize(NoneType)\n",
      "did not match C++ signature:\n",
      "    Kekulize(RDKit::ROMol {lvalue} mol, bool clearAromaticFlags=False)\n"
     ]
    },
    {
     "name": "stderr",
     "output_type": "stream",
     "text": [
      " 10%|██████████▌                                                                                                 | 842/8632 [00:02<00:29, 266.20it/s]"
     ]
    },
    {
     "name": "stdout",
     "output_type": "stream",
     "text": [
      "Python argument types in\n",
      "    rdkit.Chem.rdmolops.Kekulize(NoneType)\n",
      "did not match C++ signature:\n",
      "    Kekulize(RDKit::ROMol {lvalue} mol, bool clearAromaticFlags=False)\n",
      "DatabasePool::entry( DatabaseEntryIdentifier )(): NICOAC04 is not in the database\n"
     ]
    },
    {
     "name": "stderr",
     "output_type": "stream",
     "text": [
      " 13%|█████████████▌                                                                                             | 1090/8632 [00:03<00:27, 278.68it/s]"
     ]
    },
    {
     "name": "stdout",
     "output_type": "stream",
     "text": [
      "Python argument types in\n",
      "    rdkit.Chem.rdmolops.Kekulize(NoneType)\n",
      "did not match C++ signature:\n",
      "    Kekulize(RDKit::ROMol {lvalue} mol, bool clearAromaticFlags=False)\n",
      "Python argument types in\n",
      "    rdkit.Chem.rdmolops.Kekulize(NoneType)\n",
      "did not match C++ signature:\n",
      "    Kekulize(RDKit::ROMol {lvalue} mol, bool clearAromaticFlags=False)\n"
     ]
    },
    {
     "name": "stderr",
     "output_type": "stream",
     "text": [
      " 14%|██████████████▉                                                                                            | 1209/8632 [00:04<00:25, 287.46it/s]"
     ]
    },
    {
     "name": "stdout",
     "output_type": "stream",
     "text": [
      "Python argument types in\n",
      "    rdkit.Chem.rdmolops.Kekulize(NoneType)\n",
      "did not match C++ signature:\n",
      "    Kekulize(RDKit::ROMol {lvalue} mol, bool clearAromaticFlags=False)\n",
      "Python argument types in\n",
      "    rdkit.Chem.rdmolops.Kekulize(NoneType)\n",
      "did not match C++ signature:\n",
      "    Kekulize(RDKit::ROMol {lvalue} mol, bool clearAromaticFlags=False)\n"
     ]
    },
    {
     "name": "stderr",
     "output_type": "stream",
     "text": [
      " 15%|████████████████▎                                                                                          | 1316/8632 [00:04<00:22, 330.81it/s]"
     ]
    },
    {
     "name": "stdout",
     "output_type": "stream",
     "text": [
      "Python argument types in\n",
      "    rdkit.Chem.rdmolops.Kekulize(NoneType)\n",
      "did not match C++ signature:\n",
      "    Kekulize(RDKit::ROMol {lvalue} mol, bool clearAromaticFlags=False)\n",
      "Python argument types in\n",
      "    rdkit.Chem.rdmolops.Kekulize(NoneType)\n",
      "did not match C++ signature:\n",
      "    Kekulize(RDKit::ROMol {lvalue} mol, bool clearAromaticFlags=False)\n",
      "Python argument types in\n",
      "    rdkit.Chem.rdmolops.Kekulize(NoneType)\n",
      "did not match C++ signature:\n",
      "    Kekulize(RDKit::ROMol {lvalue} mol, bool clearAromaticFlags=False)\n"
     ]
    },
    {
     "name": "stderr",
     "output_type": "stream",
     "text": [
      " 16%|█████████████████▌                                                                                         | 1420/8632 [00:04<00:22, 320.53it/s]"
     ]
    },
    {
     "name": "stdout",
     "output_type": "stream",
     "text": [
      "Python argument types in\n",
      "    rdkit.Chem.rdmolops.Kekulize(NoneType)\n",
      "did not match C++ signature:\n",
      "    Kekulize(RDKit::ROMol {lvalue} mol, bool clearAromaticFlags=False)\n",
      "Python argument types in\n",
      "    rdkit.Chem.rdmolops.Kekulize(NoneType)\n",
      "did not match C++ signature:\n",
      "    Kekulize(RDKit::ROMol {lvalue} mol, bool clearAromaticFlags=False)\n"
     ]
    },
    {
     "name": "stderr",
     "output_type": "stream",
     "text": [
      " 17%|██████████████████▍                                                                                        | 1484/8632 [00:05<00:28, 249.10it/s]"
     ]
    },
    {
     "name": "stdout",
     "output_type": "stream",
     "text": [
      "Python argument types in\n",
      "    rdkit.Chem.rdmolops.Kekulize(NoneType)\n",
      "did not match C++ signature:\n",
      "    Kekulize(RDKit::ROMol {lvalue} mol, bool clearAromaticFlags=False)\n"
     ]
    },
    {
     "name": "stderr",
     "output_type": "stream",
     "text": [
      " 19%|███████████████████▊                                                                                       | 1597/8632 [00:05<00:29, 241.57it/s]"
     ]
    },
    {
     "name": "stdout",
     "output_type": "stream",
     "text": [
      "Python argument types in\n",
      "    rdkit.Chem.rdmolops.Kekulize(NoneType)\n",
      "did not match C++ signature:\n",
      "    Kekulize(RDKit::ROMol {lvalue} mol, bool clearAromaticFlags=False)\n"
     ]
    },
    {
     "name": "stderr",
     "output_type": "stream",
     "text": [
      " 20%|█████████████████████▎                                                                                     | 1717/8632 [00:06<00:24, 286.35it/s]"
     ]
    },
    {
     "name": "stdout",
     "output_type": "stream",
     "text": [
      "DatabasePool::entry( DatabaseEntryIdentifier )(): CBMZPN26 is not in the database\n",
      "Python argument types in\n",
      "    rdkit.Chem.rdmolops.Kekulize(NoneType)\n",
      "did not match C++ signature:\n",
      "    Kekulize(RDKit::ROMol {lvalue} mol, bool clearAromaticFlags=False)\n",
      "Python argument types in\n",
      "    rdkit.Chem.rdmolops.Kekulize(NoneType)\n",
      "did not match C++ signature:\n",
      "    Kekulize(RDKit::ROMol {lvalue} mol, bool clearAromaticFlags=False)\n"
     ]
    },
    {
     "name": "stderr",
     "output_type": "stream",
     "text": [
      " 21%|██████████████████████▍                                                                                    | 1814/8632 [00:06<00:28, 236.79it/s]"
     ]
    },
    {
     "name": "stdout",
     "output_type": "stream",
     "text": [
      "DatabasePool::entry( DatabaseEntryIdentifier )(): OMAKOE is not in the database\n"
     ]
    },
    {
     "name": "stderr",
     "output_type": "stream",
     "text": [
      " 22%|███████████████████████▋                                                                                   | 1909/8632 [00:06<00:24, 277.44it/s]"
     ]
    },
    {
     "name": "stdout",
     "output_type": "stream",
     "text": [
      "Python argument types in\n",
      "    rdkit.Chem.rdmolops.Kekulize(NoneType)\n",
      "did not match C++ signature:\n",
      "    Kekulize(RDKit::ROMol {lvalue} mol, bool clearAromaticFlags=False)\n",
      "Python argument types in\n",
      "    rdkit.Chem.rdmolops.Kekulize(NoneType)\n",
      "did not match C++ signature:\n",
      "    Kekulize(RDKit::ROMol {lvalue} mol, bool clearAromaticFlags=False)\n",
      "DatabasePool::entry( DatabaseEntryIdentifier )(): WOBHUR01 is not in the database\n",
      "Python argument types in\n",
      "    rdkit.Chem.rdmolops.Kekulize(NoneType)\n",
      "did not match C++ signature:\n",
      "    Kekulize(RDKit::ROMol {lvalue} mol, bool clearAromaticFlags=False)\n"
     ]
    },
    {
     "name": "stderr",
     "output_type": "stream",
     "text": [
      " 23%|████████████████████████▍                                                                                  | 1975/8632 [00:07<00:22, 298.10it/s]"
     ]
    },
    {
     "name": "stdout",
     "output_type": "stream",
     "text": [
      "Python argument types in\n",
      "    rdkit.Chem.rdmolops.Kekulize(NoneType)\n",
      "did not match C++ signature:\n",
      "    Kekulize(RDKit::ROMol {lvalue} mol, bool clearAromaticFlags=False)\n",
      "Python argument types in\n",
      "    rdkit.Chem.rdmolops.Kekulize(NoneType)\n",
      "did not match C++ signature:\n",
      "    Kekulize(RDKit::ROMol {lvalue} mol, bool clearAromaticFlags=False)\n",
      "Python argument types in\n",
      "    rdkit.Chem.rdmolops.Kekulize(NoneType)\n",
      "did not match C++ signature:\n",
      "    Kekulize(RDKit::ROMol {lvalue} mol, bool clearAromaticFlags=False)\n",
      "Python argument types in\n",
      "    rdkit.Chem.rdmolops.Kekulize(NoneType)\n",
      "did not match C++ signature:\n",
      "    Kekulize(RDKit::ROMol {lvalue} mol, bool clearAromaticFlags=False)\n"
     ]
    },
    {
     "name": "stderr",
     "output_type": "stream",
     "text": [
      " 24%|█████████████████████████▋                                                                                 | 2071/8632 [00:07<00:24, 271.95it/s]"
     ]
    },
    {
     "name": "stdout",
     "output_type": "stream",
     "text": [
      "Python argument types in\n",
      "    rdkit.Chem.rdmolops.Kekulize(NoneType)\n",
      "did not match C++ signature:\n",
      "    Kekulize(RDKit::ROMol {lvalue} mol, bool clearAromaticFlags=False)\n",
      "Python argument types in\n",
      "    rdkit.Chem.rdmolops.Kekulize(NoneType)\n",
      "did not match C++ signature:\n",
      "    Kekulize(RDKit::ROMol {lvalue} mol, bool clearAromaticFlags=False)\n"
     ]
    },
    {
     "name": "stderr",
     "output_type": "stream",
     "text": [
      " 25%|██████████████████████████▍                                                                                | 2134/8632 [00:07<00:23, 273.34it/s]"
     ]
    },
    {
     "name": "stdout",
     "output_type": "stream",
     "text": [
      "Python argument types in\n",
      "    rdkit.Chem.rdmolops.Kekulize(NoneType)\n",
      "did not match C++ signature:\n",
      "    Kekulize(RDKit::ROMol {lvalue} mol, bool clearAromaticFlags=False)\n",
      "Python argument types in\n",
      "    rdkit.Chem.rdmolops.Kekulize(NoneType)\n",
      "did not match C++ signature:\n",
      "    Kekulize(RDKit::ROMol {lvalue} mol, bool clearAromaticFlags=False)\n"
     ]
    },
    {
     "name": "stderr",
     "output_type": "stream",
     "text": [
      " 26%|████████████████████████████                                                                               | 2262/8632 [00:08<00:23, 266.18it/s]"
     ]
    },
    {
     "name": "stdout",
     "output_type": "stream",
     "text": [
      "Python argument types in\n",
      "    rdkit.Chem.rdmolops.Kekulize(NoneType)\n",
      "did not match C++ signature:\n",
      "    Kekulize(RDKit::ROMol {lvalue} mol, bool clearAromaticFlags=False)\n"
     ]
    },
    {
     "name": "stderr",
     "output_type": "stream",
     "text": [
      " 28%|█████████████████████████████▊                                                                             | 2408/8632 [00:08<00:23, 269.10it/s]"
     ]
    },
    {
     "name": "stdout",
     "output_type": "stream",
     "text": [
      "DatabasePool::entry( DatabaseEntryIdentifier )(): CBMZPN24 is not in the database\n"
     ]
    },
    {
     "name": "stderr",
     "output_type": "stream",
     "text": [
      " 29%|██████████████████████████████▌                                                                            | 2470/8632 [00:09<00:22, 279.93it/s]"
     ]
    },
    {
     "name": "stdout",
     "output_type": "stream",
     "text": [
      "Python argument types in\n",
      "    rdkit.Chem.rdmolops.Kekulize(NoneType)\n",
      "did not match C++ signature:\n",
      "    Kekulize(RDKit::ROMol {lvalue} mol, bool clearAromaticFlags=False)\n"
     ]
    },
    {
     "name": "stderr",
     "output_type": "stream",
     "text": [
      " 30%|███████████████████████████████▊                                                                           | 2571/8632 [00:09<00:20, 301.90it/s]"
     ]
    },
    {
     "name": "stdout",
     "output_type": "stream",
     "text": [
      "Python argument types in\n",
      "    rdkit.Chem.rdmolops.Kekulize(NoneType)\n",
      "did not match C++ signature:\n",
      "    Kekulize(RDKit::ROMol {lvalue} mol, bool clearAromaticFlags=False)\n",
      "Python argument types in\n",
      "    rdkit.Chem.rdmolops.Kekulize(NoneType)\n",
      "did not match C++ signature:\n",
      "    Kekulize(RDKit::ROMol {lvalue} mol, bool clearAromaticFlags=False)\n"
     ]
    },
    {
     "name": "stderr",
     "output_type": "stream",
     "text": [
      " 31%|████████████████████████████████▉                                                                          | 2660/8632 [00:09<00:23, 256.20it/s]"
     ]
    },
    {
     "name": "stdout",
     "output_type": "stream",
     "text": [
      "Python argument types in\n",
      "    rdkit.Chem.rdmolops.Kekulize(NoneType)\n",
      "did not match C++ signature:\n",
      "    Kekulize(RDKit::ROMol {lvalue} mol, bool clearAromaticFlags=False)\n"
     ]
    },
    {
     "name": "stderr",
     "output_type": "stream",
     "text": [
      " 32%|██████████████████████████████████                                                                         | 2744/8632 [00:10<00:23, 254.65it/s]"
     ]
    },
    {
     "name": "stdout",
     "output_type": "stream",
     "text": [
      "Python argument types in\n",
      "    rdkit.Chem.rdmolops.Kekulize(NoneType)\n",
      "did not match C++ signature:\n",
      "    Kekulize(RDKit::ROMol {lvalue} mol, bool clearAromaticFlags=False)\n",
      "DatabasePool::entry( DatabaseEntryIdentifier )(): NICOAC03 is not in the database\n"
     ]
    },
    {
     "name": "stderr",
     "output_type": "stream",
     "text": [
      " 33%|███████████████████████████████████▎                                                                       | 2849/8632 [00:10<00:18, 311.18it/s]"
     ]
    },
    {
     "name": "stdout",
     "output_type": "stream",
     "text": [
      "Python argument types in\n",
      "    rdkit.Chem.rdmolops.Kekulize(NoneType)\n",
      "did not match C++ signature:\n",
      "    Kekulize(RDKit::ROMol {lvalue} mol, bool clearAromaticFlags=False)\n",
      "Python argument types in\n",
      "    rdkit.Chem.rdmolops.Kekulize(NoneType)\n",
      "did not match C++ signature:\n",
      "    Kekulize(RDKit::ROMol {lvalue} mol, bool clearAromaticFlags=False)\n"
     ]
    },
    {
     "name": "stderr",
     "output_type": "stream",
     "text": [
      " 37%|███████████████████████████████████████▎                                                                   | 3175/8632 [00:11<00:19, 283.29it/s]"
     ]
    },
    {
     "name": "stdout",
     "output_type": "stream",
     "text": [
      "Python argument types in\n",
      "    rdkit.Chem.rdmolops.Kekulize(NoneType)\n",
      "did not match C++ signature:\n",
      "    Kekulize(RDKit::ROMol {lvalue} mol, bool clearAromaticFlags=False)\n",
      "Python argument types in\n",
      "    rdkit.Chem.rdmolops.Kekulize(NoneType)\n",
      "did not match C++ signature:\n",
      "    Kekulize(RDKit::ROMol {lvalue} mol, bool clearAromaticFlags=False)\n"
     ]
    },
    {
     "name": "stderr",
     "output_type": "stream",
     "text": [
      " 38%|████████████████████████████████████████▉                                                                  | 3303/8632 [00:12<00:19, 277.39it/s]"
     ]
    },
    {
     "name": "stdout",
     "output_type": "stream",
     "text": [
      "Python argument types in\n",
      "    rdkit.Chem.rdmolops.Kekulize(NoneType)\n",
      "did not match C++ signature:\n",
      "    Kekulize(RDKit::ROMol {lvalue} mol, bool clearAromaticFlags=False)\n"
     ]
    },
    {
     "name": "stderr",
     "output_type": "stream",
     "text": [
      " 39%|██████████████████████████████████████████▏                                                                | 3405/8632 [00:12<00:18, 281.55it/s]"
     ]
    },
    {
     "name": "stdout",
     "output_type": "stream",
     "text": [
      "Python argument types in\n",
      "    rdkit.Chem.rdmolops.Kekulize(NoneType)\n",
      "did not match C++ signature:\n",
      "    Kekulize(RDKit::ROMol {lvalue} mol, bool clearAromaticFlags=False)\n"
     ]
    },
    {
     "name": "stderr",
     "output_type": "stream",
     "text": [
      " 40%|██████████████████████████████████████████▉                                                                | 3465/8632 [00:12<00:21, 236.14it/s]"
     ]
    },
    {
     "name": "stdout",
     "output_type": "stream",
     "text": [
      "Python argument types in\n",
      "    rdkit.Chem.rdmolops.Kekulize(NoneType)\n",
      "did not match C++ signature:\n",
      "    Kekulize(RDKit::ROMol {lvalue} mol, bool clearAromaticFlags=False)\n",
      "DatabasePool::entry( DatabaseEntryIdentifier )(): COTZAN06 is not in the database\n",
      "Python argument types in\n",
      "    rdkit.Chem.rdmolops.Kekulize(NoneType)\n",
      "did not match C++ signature:\n",
      "    Kekulize(RDKit::ROMol {lvalue} mol, bool clearAromaticFlags=False)\n"
     ]
    },
    {
     "name": "stderr",
     "output_type": "stream",
     "text": [
      " 41%|████████████████████████████████████████████                                                               | 3559/8632 [00:12<00:17, 282.95it/s]"
     ]
    },
    {
     "name": "stdout",
     "output_type": "stream",
     "text": [
      "Python argument types in\n",
      "    rdkit.Chem.rdmolops.Kekulize(NoneType)\n",
      "did not match C++ signature:\n",
      "    Kekulize(RDKit::ROMol {lvalue} mol, bool clearAromaticFlags=False)\n",
      "Python argument types in\n",
      "    rdkit.Chem.rdmolops.Kekulize(NoneType)\n",
      "did not match C++ signature:\n",
      "    Kekulize(RDKit::ROMol {lvalue} mol, bool clearAromaticFlags=False)\n"
     ]
    },
    {
     "name": "stderr",
     "output_type": "stream",
     "text": [
      " 43%|██████████████████████████████████████████████▎                                                            | 3735/8632 [00:13<00:17, 282.49it/s]"
     ]
    },
    {
     "name": "stdout",
     "output_type": "stream",
     "text": [
      "Python argument types in\n",
      "    rdkit.Chem.rdmolops.Kekulize(NoneType)\n",
      "did not match C++ signature:\n",
      "    Kekulize(RDKit::ROMol {lvalue} mol, bool clearAromaticFlags=False)\n",
      "Python argument types in\n",
      "    rdkit.Chem.rdmolops.Kekulize(NoneType)\n",
      "did not match C++ signature:\n",
      "    Kekulize(RDKit::ROMol {lvalue} mol, bool clearAromaticFlags=False)\n",
      "Python argument types in\n",
      "    rdkit.Chem.rdmolops.Kekulize(NoneType)\n",
      "did not match C++ signature:\n",
      "    Kekulize(RDKit::ROMol {lvalue} mol, bool clearAromaticFlags=False)\n",
      "Python argument types in\n",
      "    rdkit.Chem.rdmolops.Kekulize(NoneType)\n",
      "did not match C++ signature:\n",
      "    Kekulize(RDKit::ROMol {lvalue} mol, bool clearAromaticFlags=False)\n"
     ]
    },
    {
     "name": "stderr",
     "output_type": "stream",
     "text": [
      " 45%|████████████████████████████████████████████████                                                           | 3877/8632 [00:14<00:15, 312.14it/s]"
     ]
    },
    {
     "name": "stdout",
     "output_type": "stream",
     "text": [
      "Python argument types in\n",
      "    rdkit.Chem.rdmolops.Kekulize(NoneType)\n",
      "did not match C++ signature:\n",
      "    Kekulize(RDKit::ROMol {lvalue} mol, bool clearAromaticFlags=False)\n"
     ]
    },
    {
     "name": "stderr",
     "output_type": "stream",
     "text": [
      " 46%|████████████████████████████████████████████████▉                                                          | 3943/8632 [00:14<00:15, 300.14it/s]"
     ]
    },
    {
     "name": "stdout",
     "output_type": "stream",
     "text": [
      "Python argument types in\n",
      "    rdkit.Chem.rdmolops.Kekulize(NoneType)\n",
      "did not match C++ signature:\n",
      "    Kekulize(RDKit::ROMol {lvalue} mol, bool clearAromaticFlags=False)\n",
      "Python argument types in\n",
      "    rdkit.Chem.rdmolops.Kekulize(NoneType)\n",
      "did not match C++ signature:\n",
      "    Kekulize(RDKit::ROMol {lvalue} mol, bool clearAromaticFlags=False)\n"
     ]
    },
    {
     "name": "stderr",
     "output_type": "stream",
     "text": [
      " 46%|█████████████████████████████████████████████████▋                                                         | 4007/8632 [00:14<00:20, 226.24it/s]"
     ]
    },
    {
     "name": "stdout",
     "output_type": "stream",
     "text": [
      "Python argument types in\n",
      "    rdkit.Chem.rdmolops.Kekulize(NoneType)\n",
      "did not match C++ signature:\n",
      "    Kekulize(RDKit::ROMol {lvalue} mol, bool clearAromaticFlags=False)\n",
      "Python argument types in\n",
      "    rdkit.Chem.rdmolops.Kekulize(NoneType)\n",
      "did not match C++ signature:\n",
      "    Kekulize(RDKit::ROMol {lvalue} mol, bool clearAromaticFlags=False)\n"
     ]
    },
    {
     "name": "stderr",
     "output_type": "stream",
     "text": [
      " 47%|██████████████████████████████████████████████████▍                                                        | 4065/8632 [00:14<00:19, 235.64it/s]"
     ]
    },
    {
     "name": "stdout",
     "output_type": "stream",
     "text": [
      "Python argument types in\n",
      "    rdkit.Chem.rdmolops.Kekulize(NoneType)\n",
      "did not match C++ signature:\n",
      "    Kekulize(RDKit::ROMol {lvalue} mol, bool clearAromaticFlags=False)\n"
     ]
    },
    {
     "name": "stderr",
     "output_type": "stream",
     "text": [
      " 49%|████████████████████████████████████████████████████▎                                                      | 4217/8632 [00:15<00:17, 250.49it/s]"
     ]
    },
    {
     "name": "stdout",
     "output_type": "stream",
     "text": [
      "Python argument types in\n",
      "    rdkit.Chem.rdmolops.Kekulize(NoneType)\n",
      "did not match C++ signature:\n",
      "    Kekulize(RDKit::ROMol {lvalue} mol, bool clearAromaticFlags=False)\n"
     ]
    },
    {
     "name": "stderr",
     "output_type": "stream",
     "text": [
      " 50%|█████████████████████████████████████████████████████▌                                                     | 4317/8632 [00:15<00:14, 300.34it/s]"
     ]
    },
    {
     "name": "stdout",
     "output_type": "stream",
     "text": [
      "Python argument types in\n",
      "    rdkit.Chem.rdmolops.Kekulize(NoneType)\n",
      "did not match C++ signature:\n",
      "    Kekulize(RDKit::ROMol {lvalue} mol, bool clearAromaticFlags=False)\n"
     ]
    },
    {
     "name": "stderr",
     "output_type": "stream",
     "text": [
      " 52%|███████████████████████████████████████████████████████▏                                                   | 4450/8632 [00:16<00:14, 288.20it/s]"
     ]
    },
    {
     "name": "stdout",
     "output_type": "stream",
     "text": [
      "Python argument types in\n",
      "    rdkit.Chem.rdmolops.Kekulize(NoneType)\n",
      "did not match C++ signature:\n",
      "    Kekulize(RDKit::ROMol {lvalue} mol, bool clearAromaticFlags=False)\n",
      "Python argument types in\n",
      "    rdkit.Chem.rdmolops.Kekulize(NoneType)\n",
      "did not match C++ signature:\n",
      "    Kekulize(RDKit::ROMol {lvalue} mol, bool clearAromaticFlags=False)\n",
      "DatabasePool::entry( DatabaseEntryIdentifier )(): JOHJIB02 is not in the database\n"
     ]
    },
    {
     "name": "stderr",
     "output_type": "stream",
     "text": [
      " 53%|████████████████████████████████████████████████████████▍                                                  | 4555/8632 [00:16<00:12, 325.50it/s]"
     ]
    },
    {
     "name": "stdout",
     "output_type": "stream",
     "text": [
      "Python argument types in\n",
      "    rdkit.Chem.rdmolops.Kekulize(NoneType)\n",
      "did not match C++ signature:\n",
      "    Kekulize(RDKit::ROMol {lvalue} mol, bool clearAromaticFlags=False)\n",
      "DatabasePool::entry( DatabaseEntryIdentifier )(): JOHJIB03 is not in the database\n"
     ]
    },
    {
     "name": "stderr",
     "output_type": "stream",
     "text": [
      " 54%|█████████████████████████████████████████████████████████▎                                                 | 4624/8632 [00:16<00:12, 312.76it/s]"
     ]
    },
    {
     "name": "stdout",
     "output_type": "stream",
     "text": [
      "Python argument types in\n",
      "    rdkit.Chem.rdmolops.Kekulize(NoneType)\n",
      "did not match C++ signature:\n",
      "    Kekulize(RDKit::ROMol {lvalue} mol, bool clearAromaticFlags=False)\n"
     ]
    },
    {
     "name": "stderr",
     "output_type": "stream",
     "text": [
      " 56%|███████████████████████████████████████████████████████████▊                                               | 4821/8632 [00:17<00:14, 262.15it/s]"
     ]
    },
    {
     "name": "stdout",
     "output_type": "stream",
     "text": [
      "DatabasePool::entry( DatabaseEntryIdentifier )(): DUWXEA is not in the database\n",
      "Python argument types in\n",
      "    rdkit.Chem.rdmolops.Kekulize(NoneType)\n",
      "did not match C++ signature:\n",
      "    Kekulize(RDKit::ROMol {lvalue} mol, bool clearAromaticFlags=False)\n"
     ]
    },
    {
     "name": "stderr",
     "output_type": "stream",
     "text": [
      " 57%|████████████████████████████████████████████████████████████▌                                              | 4889/8632 [00:17<00:12, 289.10it/s]"
     ]
    },
    {
     "name": "stdout",
     "output_type": "stream",
     "text": [
      "Python argument types in\n",
      "    rdkit.Chem.rdmolops.Kekulize(NoneType)\n",
      "did not match C++ signature:\n",
      "    Kekulize(RDKit::ROMol {lvalue} mol, bool clearAromaticFlags=False)\n"
     ]
    },
    {
     "name": "stderr",
     "output_type": "stream",
     "text": [
      " 57%|█████████████████████████████████████████████████████████████▎                                             | 4951/8632 [00:18<00:14, 257.21it/s]"
     ]
    },
    {
     "name": "stdout",
     "output_type": "stream",
     "text": [
      "Python argument types in\n",
      "    rdkit.Chem.rdmolops.Kekulize(NoneType)\n",
      "did not match C++ signature:\n",
      "    Kekulize(RDKit::ROMol {lvalue} mol, bool clearAromaticFlags=False)\n"
     ]
    },
    {
     "name": "stderr",
     "output_type": "stream",
     "text": [
      " 60%|████████████████████████████████████████████████████████████████▏                                          | 5180/8632 [00:19<00:11, 304.20it/s]"
     ]
    },
    {
     "name": "stdout",
     "output_type": "stream",
     "text": [
      "Python argument types in\n",
      "    rdkit.Chem.rdmolops.Kekulize(NoneType)\n",
      "did not match C++ signature:\n",
      "    Kekulize(RDKit::ROMol {lvalue} mol, bool clearAromaticFlags=False)\n"
     ]
    },
    {
     "name": "stderr",
     "output_type": "stream",
     "text": [
      " 61%|█████████████████████████████████████████████████████████████████▍                                         | 5279/8632 [00:19<00:13, 257.41it/s]"
     ]
    },
    {
     "name": "stdout",
     "output_type": "stream",
     "text": [
      "Python argument types in\n",
      "    rdkit.Chem.rdmolops.Kekulize(NoneType)\n",
      "did not match C++ signature:\n",
      "    Kekulize(RDKit::ROMol {lvalue} mol, bool clearAromaticFlags=False)\n",
      "Python argument types in\n",
      "    rdkit.Chem.rdmolops.Kekulize(NoneType)\n",
      "did not match C++ signature:\n",
      "    Kekulize(RDKit::ROMol {lvalue} mol, bool clearAromaticFlags=False)\n",
      "DatabasePool::entry( DatabaseEntryIdentifier )(): CBMZPN25 is not in the database\n",
      "Python argument types in\n",
      "    rdkit.Chem.rdmolops.Kekulize(NoneType)\n",
      "did not match C++ signature:\n",
      "    Kekulize(RDKit::ROMol {lvalue} mol, bool clearAromaticFlags=False)\n"
     ]
    },
    {
     "name": "stderr",
     "output_type": "stream",
     "text": [
      " 63%|███████████████████████████████████████████████████████████████████▋                                       | 5465/8632 [00:20<00:11, 264.50it/s]"
     ]
    },
    {
     "name": "stdout",
     "output_type": "stream",
     "text": [
      "Python argument types in\n",
      "    rdkit.Chem.rdmolops.Kekulize(NoneType)\n",
      "did not match C++ signature:\n",
      "    Kekulize(RDKit::ROMol {lvalue} mol, bool clearAromaticFlags=False)\n",
      "Python argument types in\n",
      "    rdkit.Chem.rdmolops.Kekulize(NoneType)\n",
      "did not match C++ signature:\n",
      "    Kekulize(RDKit::ROMol {lvalue} mol, bool clearAromaticFlags=False)\n"
     ]
    },
    {
     "name": "stderr",
     "output_type": "stream",
     "text": [
      " 64%|████████████████████████████████████████████████████████████████████▊                                      | 5550/8632 [00:20<00:11, 261.13it/s]"
     ]
    },
    {
     "name": "stdout",
     "output_type": "stream",
     "text": [
      "Python argument types in\n",
      "    rdkit.Chem.rdmolops.Kekulize(NoneType)\n",
      "did not match C++ signature:\n",
      "    Kekulize(RDKit::ROMol {lvalue} mol, bool clearAromaticFlags=False)\n",
      "Python argument types in\n",
      "    rdkit.Chem.rdmolops.Kekulize(NoneType)\n",
      "did not match C++ signature:\n",
      "    Kekulize(RDKit::ROMol {lvalue} mol, bool clearAromaticFlags=False)\n",
      "Python argument types in\n",
      "    rdkit.Chem.rdmolops.Kekulize(NoneType)\n",
      "did not match C++ signature:\n",
      "    Kekulize(RDKit::ROMol {lvalue} mol, bool clearAromaticFlags=False)\n"
     ]
    },
    {
     "name": "stderr",
     "output_type": "stream",
     "text": [
      " 65%|█████████████████████████████████████████████████████████████████████▍                                     | 5602/8632 [00:20<00:12, 241.83it/s]"
     ]
    },
    {
     "name": "stdout",
     "output_type": "stream",
     "text": [
      "DatabasePool::entry( DatabaseEntryIdentifier )(): FUFXOV is not in the database\n"
     ]
    },
    {
     "name": "stderr",
     "output_type": "stream",
     "text": [
      " 67%|███████████████████████████████████████████████████████████████████████▎                                   | 5755/8632 [00:21<00:10, 268.80it/s]"
     ]
    },
    {
     "name": "stdout",
     "output_type": "stream",
     "text": [
      "Python argument types in\n",
      "    rdkit.Chem.rdmolops.Kekulize(NoneType)\n",
      "did not match C++ signature:\n",
      "    Kekulize(RDKit::ROMol {lvalue} mol, bool clearAromaticFlags=False)\n",
      "Python argument types in\n",
      "    rdkit.Chem.rdmolops.Kekulize(NoneType)\n",
      "did not match C++ signature:\n",
      "    Kekulize(RDKit::ROMol {lvalue} mol, bool clearAromaticFlags=False)\n",
      "Python argument types in\n",
      "    rdkit.Chem.rdmolops.Kekulize(NoneType)\n",
      "did not match C++ signature:\n",
      "    Kekulize(RDKit::ROMol {lvalue} mol, bool clearAromaticFlags=False)\n",
      "Python argument types in\n",
      "    rdkit.Chem.rdmolops.Kekulize(NoneType)\n",
      "did not match C++ signature:\n",
      "    Kekulize(RDKit::ROMol {lvalue} mol, bool clearAromaticFlags=False)\n"
     ]
    },
    {
     "name": "stderr",
     "output_type": "stream",
     "text": [
      " 67%|████████████████████████████████████████████████████████████████████████                                   | 5812/8632 [00:21<00:10, 273.56it/s]"
     ]
    },
    {
     "name": "stdout",
     "output_type": "stream",
     "text": [
      "Python argument types in\n",
      "    rdkit.Chem.rdmolops.Kekulize(NoneType)\n",
      "did not match C++ signature:\n",
      "    Kekulize(RDKit::ROMol {lvalue} mol, bool clearAromaticFlags=False)\n"
     ]
    },
    {
     "name": "stderr",
     "output_type": "stream",
     "text": [
      " 70%|██████████████████████████████████████████████████████████████████████████▌                                | 6014/8632 [00:22<00:08, 299.00it/s]"
     ]
    },
    {
     "name": "stdout",
     "output_type": "stream",
     "text": [
      "Python argument types in\n",
      "    rdkit.Chem.rdmolops.Kekulize(NoneType)\n",
      "did not match C++ signature:\n",
      "    Kekulize(RDKit::ROMol {lvalue} mol, bool clearAromaticFlags=False)\n",
      "Python argument types in\n",
      "    rdkit.Chem.rdmolops.Kekulize(NoneType)\n",
      "did not match C++ signature:\n",
      "    Kekulize(RDKit::ROMol {lvalue} mol, bool clearAromaticFlags=False)\n"
     ]
    },
    {
     "name": "stderr",
     "output_type": "stream",
     "text": [
      " 72%|█████████████████████████████████████████████████████████████████████████████▍                             | 6249/8632 [00:22<00:07, 330.26it/s]"
     ]
    },
    {
     "name": "stdout",
     "output_type": "stream",
     "text": [
      "DatabasePool::entry( DatabaseEntryIdentifier )(): UNEYIV03 is not in the database\n",
      "Python argument types in\n",
      "    rdkit.Chem.rdmolops.Kekulize(NoneType)\n",
      "did not match C++ signature:\n",
      "    Kekulize(RDKit::ROMol {lvalue} mol, bool clearAromaticFlags=False)\n"
     ]
    },
    {
     "name": "stderr",
     "output_type": "stream",
     "text": [
      " 75%|████████████████████████████████████████████████████████████████████████████████                           | 6459/8632 [00:23<00:06, 316.53it/s]"
     ]
    },
    {
     "name": "stdout",
     "output_type": "stream",
     "text": [
      "Python argument types in\n",
      "    rdkit.Chem.rdmolops.Kekulize(NoneType)\n",
      "did not match C++ signature:\n",
      "    Kekulize(RDKit::ROMol {lvalue} mol, bool clearAromaticFlags=False)\n",
      "Python argument types in\n",
      "    rdkit.Chem.rdmolops.Kekulize(NoneType)\n",
      "did not match C++ signature:\n",
      "    Kekulize(RDKit::ROMol {lvalue} mol, bool clearAromaticFlags=False)\n"
     ]
    },
    {
     "name": "stderr",
     "output_type": "stream",
     "text": [
      " 76%|█████████████████████████████████████████████████████████████████████████████████▋                         | 6585/8632 [00:24<00:07, 278.47it/s]"
     ]
    },
    {
     "name": "stdout",
     "output_type": "stream",
     "text": [
      "Python argument types in\n",
      "    rdkit.Chem.rdmolops.Kekulize(NoneType)\n",
      "did not match C++ signature:\n",
      "    Kekulize(RDKit::ROMol {lvalue} mol, bool clearAromaticFlags=False)\n"
     ]
    },
    {
     "name": "stderr",
     "output_type": "stream",
     "text": [
      " 77%|██████████████████████████████████████████████████████████████████████████████████▊                        | 6678/8632 [00:24<00:06, 296.64it/s]"
     ]
    },
    {
     "name": "stdout",
     "output_type": "stream",
     "text": [
      "Python argument types in\n",
      "    rdkit.Chem.rdmolops.Kekulize(NoneType)\n",
      "did not match C++ signature:\n",
      "    Kekulize(RDKit::ROMol {lvalue} mol, bool clearAromaticFlags=False)\n",
      "DatabasePool::entry( DatabaseEntryIdentifier )(): CASWOK is not in the database\n"
     ]
    },
    {
     "name": "stderr",
     "output_type": "stream",
     "text": [
      " 80%|█████████████████████████████████████████████████████████████████████████████████████▏                     | 6874/8632 [00:25<00:05, 305.36it/s]"
     ]
    },
    {
     "name": "stdout",
     "output_type": "stream",
     "text": [
      "Python argument types in\n",
      "    rdkit.Chem.rdmolops.Kekulize(NoneType)\n",
      "did not match C++ signature:\n",
      "    Kekulize(RDKit::ROMol {lvalue} mol, bool clearAromaticFlags=False)\n"
     ]
    },
    {
     "name": "stderr",
     "output_type": "stream",
     "text": [
      " 81%|██████████████████████████████████████████████████████████████████████████████████████▊                    | 6999/8632 [00:25<00:05, 278.87it/s]"
     ]
    },
    {
     "name": "stdout",
     "output_type": "stream",
     "text": [
      "Python argument types in\n",
      "    rdkit.Chem.rdmolops.Kekulize(NoneType)\n",
      "did not match C++ signature:\n",
      "    Kekulize(RDKit::ROMol {lvalue} mol, bool clearAromaticFlags=False)\n"
     ]
    },
    {
     "name": "stderr",
     "output_type": "stream",
     "text": [
      " 82%|███████████████████████████████████████████████████████████████████████████████████████▌                   | 7067/8632 [00:25<00:05, 305.81it/s]"
     ]
    },
    {
     "name": "stdout",
     "output_type": "stream",
     "text": [
      "Python argument types in\n",
      "    rdkit.Chem.rdmolops.Kekulize(NoneType)\n",
      "did not match C++ signature:\n",
      "    Kekulize(RDKit::ROMol {lvalue} mol, bool clearAromaticFlags=False)\n",
      "Python argument types in\n",
      "    rdkit.Chem.rdmolops.Kekulize(NoneType)\n",
      "did not match C++ signature:\n",
      "    Kekulize(RDKit::ROMol {lvalue} mol, bool clearAromaticFlags=False)\n",
      "Python argument types in\n",
      "    rdkit.Chem.rdmolops.Kekulize(NoneType)\n",
      "did not match C++ signature:\n",
      "    Kekulize(RDKit::ROMol {lvalue} mol, bool clearAromaticFlags=False)\n"
     ]
    },
    {
     "name": "stderr",
     "output_type": "stream",
     "text": [
      " 83%|█████████████████████████████████████████████████████████████████████████████████████████▎                 | 7203/8632 [00:26<00:04, 299.59it/s]"
     ]
    },
    {
     "name": "stdout",
     "output_type": "stream",
     "text": [
      "Python argument types in\n",
      "    rdkit.Chem.rdmolops.Kekulize(NoneType)\n",
      "did not match C++ signature:\n",
      "    Kekulize(RDKit::ROMol {lvalue} mol, bool clearAromaticFlags=False)\n",
      "Python argument types in\n",
      "    rdkit.Chem.rdmolops.Kekulize(NoneType)\n",
      "did not match C++ signature:\n",
      "    Kekulize(RDKit::ROMol {lvalue} mol, bool clearAromaticFlags=False)\n",
      "DatabasePool::entry( DatabaseEntryIdentifier )(): QQQAUG18 is not in the database\n"
     ]
    },
    {
     "name": "stderr",
     "output_type": "stream",
     "text": [
      " 84%|█████████████████████████████████████████████████████████████████████████████████████████▋                 | 7234/8632 [00:26<00:05, 270.30it/s]"
     ]
    },
    {
     "name": "stdout",
     "output_type": "stream",
     "text": [
      "Python argument types in\n",
      "    rdkit.Chem.rdmolops.Kekulize(NoneType)\n",
      "did not match C++ signature:\n",
      "    Kekulize(RDKit::ROMol {lvalue} mol, bool clearAromaticFlags=False)\n",
      "> \u001b[0;32m/tmp/ipykernel_3118633/2606875397.py\u001b[0m(1)\u001b[0;36m<module>\u001b[0;34m()\u001b[0m\n",
      "\u001b[0;32m----> 1 \u001b[0;31m\u001b[0;32mfor\u001b[0m \u001b[0mcsd_id\u001b[0m \u001b[0;32min\u001b[0m \u001b[0mtqdm\u001b[0m\u001b[0;34m(\u001b[0m\u001b[0msubset_csd_ids\u001b[0m\u001b[0;34m)\u001b[0m\u001b[0;34m:\u001b[0m\u001b[0;34m\u001b[0m\u001b[0;34m\u001b[0m\u001b[0m\n",
      "\u001b[0m\u001b[0;32m      2 \u001b[0;31m    \u001b[0;32mtry\u001b[0m\u001b[0;34m:\u001b[0m\u001b[0;34m\u001b[0m\u001b[0;34m\u001b[0m\u001b[0m\n",
      "\u001b[0m\u001b[0;32m      3 \u001b[0;31m        \u001b[0moriginal_mol\u001b[0m \u001b[0;34m=\u001b[0m \u001b[0mmol_iterator\u001b[0m\u001b[0;34m.\u001b[0m\u001b[0mmolecule\u001b[0m\u001b[0;34m(\u001b[0m\u001b[0mcsd_id\u001b[0m\u001b[0;34m)\u001b[0m\u001b[0;34m\u001b[0m\u001b[0;34m\u001b[0m\u001b[0m\n",
      "\u001b[0m\u001b[0;32m      4 \u001b[0;31m        \u001b[0;32mif\u001b[0m \u001b[0misinstance\u001b[0m\u001b[0;34m(\u001b[0m\u001b[0moriginal_mol\u001b[0m\u001b[0;34m,\u001b[0m \u001b[0mMolecule\u001b[0m\u001b[0;34m)\u001b[0m\u001b[0;34m:\u001b[0m\u001b[0;34m\u001b[0m\u001b[0;34m\u001b[0m\u001b[0m\n",
      "\u001b[0m\u001b[0;32m      5 \u001b[0;31m            \u001b[0;32mtry\u001b[0m\u001b[0;34m:\u001b[0m\u001b[0;34m\u001b[0m\u001b[0;34m\u001b[0m\u001b[0m\n",
      "\u001b[0m\n"
     ]
    },
    {
     "name": "stdin",
     "output_type": "stream",
     "text": [
      "ipdb>  Chem.MolToMolFile(mol, 'match.mol')\n"
     ]
    },
    {
     "name": "stderr",
     "output_type": "stream",
     "text": [
      " 84%|█████████████████████████████████████████████████████████████████████████████████████████▋                 | 7234/8632 [00:40<00:05, 270.30it/s]"
     ]
    },
    {
     "name": "stdin",
     "output_type": "stream",
     "text": [
      "ipdb>  mol.GetProp('_Name')\n"
     ]
    },
    {
     "name": "stdout",
     "output_type": "stream",
     "text": [
      "'UVITEZ'\n"
     ]
    },
    {
     "name": "stdin",
     "output_type": "stream",
     "text": [
      "ipdb>  exit\n"
     ]
    },
    {
     "name": "stderr",
     "output_type": "stream",
     "text": [
      " 84%|██████████████████████████████████████████████████████████████████████████████████████████▊                 | 7259/8632 [01:42<00:19, 71.02it/s]\n"
     ]
    }
   ],
   "source": [
    "for csd_id in tqdm(subset_csd_ids):\n",
    "    try:\n",
    "        original_mol = mol_iterator.molecule(csd_id)\n",
    "        if isinstance(original_mol, Molecule):\n",
    "            try:\n",
    "                mol = ccdc_mol_to_rdkit_mol(original_mol)\n",
    "            except Exception as e:\n",
    "                logging.warning('CCDC mol could not be converted to RDKit :' + str(e))\n",
    "                mol = None\n",
    "        else:\n",
    "            mol = original_mol\n",
    "\n",
    "        Chem.Kekulize(mol)\n",
    "        matches = mol.GetSubstructMatch(five_ring_mol, useChirality=True)\n",
    "        if matches:\n",
    "            import pdb;pdb.set_trace()\n",
    "    \n",
    "    except Exception as e:\n",
    "        print(e)"
   ]
  },
  {
   "cell_type": "code",
   "execution_count": 24,
   "id": "d9a2dc05-a768-4151-870a-8dcf4465e5c5",
   "metadata": {},
   "outputs": [],
   "source": [
    "name = 'UVITEZ'"
   ]
  },
  {
   "cell_type": "code",
   "execution_count": 25,
   "id": "fc60220c-ade8-4764-bc65-1ac611e3b7e3",
   "metadata": {},
   "outputs": [],
   "source": [
    "original_mol = mol_iterator.molecule(name)\n",
    "if isinstance(original_mol, Molecule):\n",
    "    try:\n",
    "        mol = ccdc_mol_to_rdkit_mol(original_mol)\n",
    "    except Exception as e:\n",
    "        logging.warning('CCDC mol could not be converted to RDKit :' + str(e))\n",
    "        mol = None\n",
    "else:\n",
    "    mol = original_mol"
   ]
  },
  {
   "cell_type": "code",
   "execution_count": 26,
   "id": "0f15d59c-684c-4097-93bf-668e74259f73",
   "metadata": {},
   "outputs": [],
   "source": [
    "mol_angle_values = rg.get_mol_angle_values(mol)"
   ]
  },
  {
   "cell_type": "code",
   "execution_count": 27,
   "id": "422d92ec-68eb-4bfd-ad32-c9113053cff1",
   "metadata": {},
   "outputs": [
    {
     "data": {
      "text/plain": [
       "'C(~N,-N)~N()~C(-N,~C)'"
      ]
     },
     "execution_count": 27,
     "metadata": {},
     "output_type": "execute_result"
    }
   ],
   "source": [
    "pattern_str"
   ]
  },
  {
   "cell_type": "code",
   "execution_count": 28,
   "id": "8a236613-98f9-4ee2-bab8-7e65048a7264",
   "metadata": {},
   "outputs": [
    {
     "name": "stdout",
     "output_type": "stream",
     "text": [
      "F()-B[-1](-O,-O)-F()\n",
      "F()-B[-1](-F,-O)-O(-C)\n",
      "C(-N,-C)=C(-C)-O(-B)\n",
      "O(-B)-C(=C)-C(=C,-H)\n",
      "O(-C)-B[-1](-F,-F)-O(-C)\n",
      "O(-B)-C(=C)-C(~N,~C)\n",
      "C(-C,-H)=C(-C)-O(-B)\n",
      "C(-C,-H)=C(-O)-C(~N,~C)\n",
      "C(~C,-C)~N(-H)~C(~C,-H)\n",
      "C(~C,-C)~N(~C)-H()\n",
      "C(~N,-C)~C(-H)~C(~C,-H)\n",
      "C(~N,-C)~C(~C)-H()\n",
      "C(=C,-C)-O()-B[-1](-F,-F,-O)\n",
      "C(-O,-C)=C(-C)-N[+1](=C,-H)\n",
      "C(-O,-C)=C(-N)-C(=C,-H)\n",
      "C(-O,-C)=C(-H)-C(-O,=C)\n",
      "C(-O,=C)-C(=C)-H()\n",
      "N(~C,-H)~C(~C)-C(-O,=C)\n",
      "C(~C,-H)~C(~N)-C(-O,=C)\n",
      "C(-O,-C)=C(-C)-H()\n",
      "C(-N,-C)=C(-O)-C(=C,-H)\n",
      "C(-C,-H)=N[+1](-H)-C(=C,-C)\n",
      "C(=C,-C)-N[+1](=C)-H()\n",
      "C(-C,-H)=C(-H)-C(-N,=C)\n",
      "C(-N,=C)-C(=C)-H()\n",
      "C(=N,-H)-C(=C)-H()\n",
      "C(-C,-H)=C(-H)-C(=N,-H)\n",
      "C(-C,-H)=N[+1](-C)-H()\n",
      "C(=C,-H)-C(=N)-H()\n",
      "N[+1](-C,-H)=C(-C)-H()\n",
      "N[+1](-C,-H)=C(-H)-C(=C,-H)\n",
      "C(-C,-H)=C(-C)-H()\n",
      "C(~N,-H)~C(~C)-H()\n",
      "C(~N,-H)~C(-H)~C(~C,-H)\n",
      "C(~C,-H)~N(~C)-H()\n",
      "C(~C,-H)~C(~N)-H()\n",
      "N(~C,-H)~C(~C)-H()\n",
      "N(~C,-H)~C(-H)~C(~C,-H)\n",
      "C(~C,-H)~C(~C)-H()\n",
      "N[+1](=C,-H)-C(=C)-C(=C,-H)\n",
      "N(~C,-H)~C(-C)~C(~C,-H)\n",
      "O()=C(-C)-O[-1]()\n",
      "O[-1]()-C(=O)-C(~C,~C)\n",
      "O()=C(-O)-C(~C,~C)\n",
      "C(~C,-C)~C(~C)-H()\n",
      "C(~C,-C)~C(-H)~C(~C,-H)\n",
      "C(~C,-H)~C(~C)-C(=O,-O)\n",
      "C(~C,-H)~C(-C)~C(~C,-H)\n",
      "C(~C,-H)~C(-H)~C(~C,-H)\n",
      "N[+1](-C,-C,-C)-C(-C,-H)-H()\n",
      "N[+1](-C,-C,-C)-C(-H,-H)-C(-C,-H,-H)\n",
      "C(-C,-H,-H)-N[+1](-C,-C)-C(-C,-H,-H)\n",
      "C(-N,-H,-H)-C(-C,-H)-H()\n",
      "C(-N,-H,-H)-C(-H,-H)-C(-H,-H,-H)\n",
      "H()-C(-N,-C)-H()\n",
      "C(-C,-H,-H)-C(-N,-H)-H()\n",
      "C(-C,-H,-H)-C(-H,-H)-H()\n",
      "H()-C(-C,-C)-H()\n",
      "C(-H,-H,-H)-C(-C,-H)-H()\n",
      "H()-C(-C,-H)-H()\n"
     ]
    }
   ],
   "source": [
    "for pattern, values in mol_angle_values.items():\n",
    "    print(pattern.to_string())"
   ]
  },
  {
   "cell_type": "code",
   "execution_count": null,
   "id": "d7a20374-fc23-41d6-a2cd-ded63cf69e70",
   "metadata": {},
   "outputs": [],
   "source": []
  },
  {
   "cell_type": "code",
   "execution_count": null,
   "id": "f0d5ff3a-c3f5-461a-8d79-085b564a9ccf",
   "metadata": {},
   "outputs": [],
   "source": []
  },
  {
   "cell_type": "code",
   "execution_count": 50,
   "id": "b2b50163-a98b-45fe-bb5b-9b65c13e2efc",
   "metadata": {},
   "outputs": [],
   "source": [
    "Chem.Kekulize(mol)"
   ]
  },
  {
   "cell_type": "code",
   "execution_count": 61,
   "id": "3ac58081-badd-4e4f-89cd-5526036c368d",
   "metadata": {},
   "outputs": [],
   "source": [
    "pattern_str = 'C(-N,-H)-C(-H,-H)-C(-H,-H)-C(-N,-H)'"
   ]
  },
  {
   "cell_type": "code",
   "execution_count": 54,
   "id": "0d71ff26-5b36-4594-9373-11dbf718ddbc",
   "metadata": {},
   "outputs": [],
   "source": [
    "pattern = TorsionPattern.from_string(pattern_str)"
   ]
  },
  {
   "cell_type": "code",
   "execution_count": 49,
   "id": "3e571ba6-d6ca-4ffe-9401-3bca15327775",
   "metadata": {},
   "outputs": [],
   "source": [
    "patterns = list(rg.mixtures['torsion'].keys())"
   ]
  },
  {
   "cell_type": "code",
   "execution_count": 55,
   "id": "fed4cadd-e38c-447c-9904-f59458223289",
   "metadata": {},
   "outputs": [],
   "source": [
    "geometry_mixture = rg.mixtures['torsion'][pattern]\n",
    "geometry_values = values['torsion'][pattern]"
   ]
  },
  {
   "cell_type": "code",
   "execution_count": 56,
   "id": "9aca6f09-10a8-4c73-a7fa-ef0373447817",
   "metadata": {},
   "outputs": [
    {
     "name": "stderr",
     "output_type": "stream",
     "text": [
      "/home/bb596/ssd/miniforge3/envs/csd/lib/python3.9/site-packages/pandas/core/algorithms.py:485: DeprecationWarning: np.find_common_type is deprecated.  Please use `np.result_type` or `np.promote_types`.\n",
      "See https://numpy.org/devdocs/release/1.25.0-notes.html and the docs for more information.  (Deprecated NumPy 1.25)\n",
      "  common = np.find_common_type([values.dtype, comps.dtype], [])\n"
     ]
    },
    {
     "data": {
      "text/plain": [
       "<Axes: ylabel='Count'>"
      ]
     },
     "execution_count": 56,
     "metadata": {},
     "output_type": "execute_result"
    },
    {
     "data": {
      "image/png": "[encoded data removed]",
      "text/plain": [
       "<Figure size 640x480 with 1 Axes>"
      ]
     },
     "metadata": {},
     "output_type": "display_data"
    }
   ],
   "source": [
    "sns.histplot(geometry_values, bins=100)"
   ]
  },
  {
   "cell_type": "code",
   "execution_count": 57,
   "id": "167457b7-2b87-4efa-a606-9c924d13b42f",
   "metadata": {
    "scrolled": true
   },
   "outputs": [
    {
     "name": "stderr",
     "output_type": "stream",
     "text": [
      "/home/bb596/ssd/miniforge3/envs/csd/lib/python3.9/site-packages/pandas/core/algorithms.py:485: DeprecationWarning: np.find_common_type is deprecated.  Please use `np.result_type` or `np.promote_types`.\n",
      "See https://numpy.org/devdocs/release/1.25.0-notes.html and the docs for more information.  (Deprecated NumPy 1.25)\n",
      "  common = np.find_common_type([values.dtype, comps.dtype], [])\n"
     ]
    },
    {
     "data": {
      "image/png": "[encoded data removed]",
      "text/plain": [
       "<Figure size 640x480 with 1 Axes>"
      ]
     },
     "metadata": {},
     "output_type": "display_data"
    }
   ],
   "source": [
    "mixture = geometry_mixture.mixture\n",
    "samples = plot_mixture(mixture)"
   ]
  },
  {
   "cell_type": "code",
   "execution_count": 60,
   "id": "174868a7-f44f-4138-a7cd-2c328683aed5",
   "metadata": {},
   "outputs": [
    {
     "data": {
      "text/plain": [
       "array([[[1.e-06]]])"
      ]
     },
     "execution_count": 60,
     "metadata": {},
     "output_type": "execute_result"
    }
   ],
   "source": [
    "mixture.covariances_"
   ]
  },
  {
   "cell_type": "code",
   "execution_count": 33,
   "id": "dc34fe98-a2df-4d3c-a4de-ff8b71d54db0",
   "metadata": {},
   "outputs": [
    {
     "name": "stderr",
     "output_type": "stream",
     "text": [
      "/home/bb596/ssd/miniforge3/envs/csd/lib/python3.9/site-packages/pandas/core/algorithms.py:485: DeprecationWarning: np.find_common_type is deprecated.  Please use `np.result_type` or `np.promote_types`.\n",
      "See https://numpy.org/devdocs/release/1.25.0-notes.html and the docs for more information.  (Deprecated NumPy 1.25)\n",
      "  common = np.find_common_type([values.dtype, comps.dtype], [])\n"
     ]
    },
    {
     "data": {
      "text/plain": [
       "<Axes: >"
      ]
     },
     "execution_count": 33,
     "metadata": {},
     "output_type": "execute_result"
    },
    {
     "data": {
      "image/png": "[encoded data removed]",
      "text/plain": [
       "<Figure size 640x480 with 1 Axes>"
      ]
     },
     "metadata": {},
     "output_type": "display_data"
    }
   ],
   "source": [
    "likelihoods = rg.get_likelihoods(mixture, samples)\n",
    "sns.lineplot(x=samples, y=likelihoods)"
   ]
  },
  {
   "cell_type": "code",
   "execution_count": 27,
   "id": "de052cc3-3ec1-401c-bcbd-0a3168f71f2e",
   "metadata": {},
   "outputs": [
    {
     "name": "stderr",
     "output_type": "stream",
     "text": [
      "/home/bb596/ssd/miniforge3/envs/csd/lib/python3.9/site-packages/pandas/core/algorithms.py:485: DeprecationWarning: np.find_common_type is deprecated.  Please use `np.result_type` or `np.promote_types`.\n",
      "See https://numpy.org/devdocs/release/1.25.0-notes.html and the docs for more information.  (Deprecated NumPy 1.25)\n",
      "  common = np.find_common_type([values.dtype, comps.dtype], [])\n"
     ]
    },
    {
     "data": {
      "text/plain": [
       "<Axes: >"
      ]
     },
     "execution_count": 27,
     "metadata": {},
     "output_type": "execute_result"
    },
    {
     "data": {
      "image/png": "[encoded data removed]",
      "text/plain": [
       "<Figure size 640x480 with 1 Axes>"
      ]
     },
     "metadata": {},
     "output_type": "display_data"
    }
   ],
   "source": []
  },
  {
   "cell_type": "code",
   "execution_count": 22,
   "id": "6897774e-0aa2-4d1c-a6dd-2a7fd4147e7f",
   "metadata": {
    "scrolled": true
   },
   "outputs": [
    {
     "name": "stdout",
     "output_type": "stream",
     "text": [
      "C{6}(~C,~C)-C(-N,-H,-H)\n",
      "\n",
      "C{6}(~C,~C)-H()\n",
      "\n",
      "C{6}(~C,~C)-Cl()\n",
      "\n",
      "C{6}(~C,~C)-C(-C,-H,-H)\n",
      "\n",
      "C{6}(~C,~C)-O(-C)\n",
      "\n",
      "C{6}(~C,~C)-N(-H,-H)\n",
      "\n",
      "C{6}(~C,~C)-O(-H)\n",
      "\n",
      "C{6}(~C,~C)-N(-C,-H)\n",
      "\n",
      "C{6}(~C,~C)-C(-O,-C,-H)\n",
      "\n",
      "C{6}(~C,~C)-C(=O,-O)\n",
      "\n",
      "C{6}(~C,~C)-C(=C,-H)\n",
      "\n",
      "C{6}(~C,~C)-C(=O,-N)\n",
      "\n",
      "C{6}(~C,~C)-F()\n",
      "\n",
      "C{6}(~C,~C)-C{6}(~C,~C)\n",
      "\n",
      "C{6}(~C,~C)-C()\n",
      "\n",
      "C{6}(~C,~C)=O()\n",
      "\n",
      "C{6}(~C,~C)-C(-C,-C,-H)\n",
      "\n",
      "C{6}(~C,~C)-S(=O,=O,-N)\n",
      "\n",
      "C{6}(~C,~C)-C(=O,-C)\n",
      "\n",
      "C{6}(~C,~C)-C(-N,-C,-H)\n",
      "\n",
      "C{6}(~C,~C)-S(=O,=O,-O)\n",
      "\n",
      "C{6}(~C,~C)-C(-O,-C,-C)\n",
      "\n",
      "C{6}(~C,~C)-Br()\n",
      "\n",
      "C{6}(~C,~C)-C(-H,-H,-H)\n",
      "\n",
      "C{6}(~C,~C)-C(-C,-C,-C)\n",
      "\n",
      "C{6}(~C,~C)-C(#N)\n",
      "\n",
      "C{6}(~C,~C)-C(-F,-F,-F)\n",
      "\n",
      "C{6}(~C,~C)-I()\n",
      "\n",
      "C{6}(~C,~C)-N(-C,-C)\n",
      "\n"
     ]
    }
   ],
   "source": [
    "for pattern in rg.mixtures['bond'].keys():\n",
    "    if pattern.to_string().startswith('C{6}(~C,~C)'):\n",
    "        print(pattern.to_string())\n",
    "        print()"
   ]
  },
  {
   "cell_type": "code",
   "execution_count": 17,
   "id": "81ae4bd7-c5fc-4a79-9c08-71cbe2dfa83f",
   "metadata": {},
   "outputs": [
    {
     "data": {
      "text/plain": [
       "'C{8,5,5}()-H()'"
      ]
     },
     "execution_count": 17,
     "metadata": {},
     "output_type": "execute_result"
    }
   ],
   "source": [
    "pattern.to_string()"
   ]
  },
  {
   "cell_type": "code",
   "execution_count": 73,
   "id": "072e1249-40a5-4be3-b7bb-1dace057ddd5",
   "metadata": {},
   "outputs": [],
   "source": [
    "pattern_str = 'C{6}(~C,~C)-C(#N)'"
   ]
  },
  {
   "cell_type": "code",
   "execution_count": 74,
   "id": "ab6daf62-29f5-4354-b2f8-bc9269976c17",
   "metadata": {},
   "outputs": [],
   "source": [
    "pattern = BondPattern.from_string(pattern_str)"
   ]
  },
  {
   "cell_type": "code",
   "execution_count": 28,
   "id": "dffeb2f5-1abb-4fa3-a715-848e31f86484",
   "metadata": {},
   "outputs": [
    {
     "data": {
      "text/plain": [
       "GeometryMixture(mixture=GaussianMixture(n_components=3), max_likelihood=0.6595577411582113, shift=0)"
      ]
     },
     "execution_count": 28,
     "metadata": {},
     "output_type": "execute_result"
    }
   ],
   "source": [
    "rg.mixtures['bond'][pattern.generalize()]"
   ]
  },
  {
   "cell_type": "code",
   "execution_count": 75,
   "id": "ad136f6f-1aa9-4c03-a6e5-715b8da251ad",
   "metadata": {},
   "outputs": [],
   "source": [
    "geometry_mixture = rg.mixtures['bond'][pattern]\n",
    "geometry_values = values['bond'][pattern]"
   ]
  },
  {
   "cell_type": "code",
   "execution_count": 76,
   "id": "1537bc7b-f2d7-492f-a5ff-f0c555d66f9b",
   "metadata": {},
   "outputs": [
    {
     "name": "stderr",
     "output_type": "stream",
     "text": [
      "/home/bb596/ssd/miniforge3/envs/csd/lib/python3.9/site-packages/pandas/core/algorithms.py:485: DeprecationWarning: np.find_common_type is deprecated.  Please use `np.result_type` or `np.promote_types`.\n",
      "See https://numpy.org/devdocs/release/1.25.0-notes.html and the docs for more information.  (Deprecated NumPy 1.25)\n",
      "  common = np.find_common_type([values.dtype, comps.dtype], [])\n"
     ]
    },
    {
     "data": {
      "text/plain": [
       "<Axes: ylabel='Count'>"
      ]
     },
     "execution_count": 76,
     "metadata": {},
     "output_type": "execute_result"
    },
    {
     "data": {
      "image/png": "[encoded data removed]",
      "text/plain": [
       "<Figure size 640x480 with 1 Axes>"
      ]
     },
     "metadata": {},
     "output_type": "display_data"
    }
   ],
   "source": [
    "sns.histplot(geometry_values, bins=100)"
   ]
  },
  {
   "cell_type": "code",
   "execution_count": 77,
   "id": "132438c0-5796-41b6-b574-0fcc1bf58fa5",
   "metadata": {
    "scrolled": true
   },
   "outputs": [
    {
     "name": "stderr",
     "output_type": "stream",
     "text": [
      "/home/bb596/ssd/miniforge3/envs/csd/lib/python3.9/site-packages/pandas/core/algorithms.py:485: DeprecationWarning: np.find_common_type is deprecated.  Please use `np.result_type` or `np.promote_types`.\n",
      "See https://numpy.org/devdocs/release/1.25.0-notes.html and the docs for more information.  (Deprecated NumPy 1.25)\n",
      "  common = np.find_common_type([values.dtype, comps.dtype], [])\n"
     ]
    },
    {
     "data": {
      "image/png": "[encoded data removed]",
      "text/plain": [
       "<Figure size 640x480 with 1 Axes>"
      ]
     },
     "metadata": {},
     "output_type": "display_data"
    }
   ],
   "source": [
    "mixture = geometry_mixture.mixture\n",
    "samples = plot_mixture(mixture)"
   ]
  },
  {
   "cell_type": "code",
   "execution_count": 110,
   "id": "630587ce-bc12-4952-a5b9-e0f1040eec8e",
   "metadata": {},
   "outputs": [],
   "source": [
    "smiles = 'OCC1=CC=CC1=O'\n",
    "mol = Chem.MolFromSmiles(smiles)"
   ]
  },
  {
   "cell_type": "code",
   "execution_count": 113,
   "id": "431ea6fe-e7f2-43da-b671-72ed5f440645",
   "metadata": {},
   "outputs": [],
   "source": [
    "ri = mol.GetRingInfo()"
   ]
  },
  {
   "cell_type": "code",
   "execution_count": 115,
   "id": "bc4da432-412c-42b8-8279-f324f6d0ad4b",
   "metadata": {},
   "outputs": [
    {
     "data": {
      "text/plain": [
       "((2, 3, 4, 5, 7),)"
      ]
     },
     "execution_count": 115,
     "metadata": {},
     "output_type": "execute_result"
    }
   ],
   "source": [
    "ri.BondRings()"
   ]
  },
  {
   "cell_type": "code",
   "execution_count": 116,
   "id": "eec28b67-43b0-4475-80ff-69cf5f2e321b",
   "metadata": {},
   "outputs": [
    {
     "data": {
      "text/plain": [
       "((2, 3, 4, 5, 6),)"
      ]
     },
     "execution_count": 116,
     "metadata": {},
     "output_type": "execute_result"
    }
   ],
   "source": [
    "ri.AtomRings()"
   ]
  },
  {
   "cell_type": "code",
   "execution_count": 119,
   "id": "021301f8-fa6d-4059-bf59-b75a860239d2",
   "metadata": {},
   "outputs": [
    {
     "data": {
      "text/plain": [
       "'{6,5}'"
      ]
     },
     "execution_count": 119,
     "metadata": {},
     "output_type": "execute_result"
    }
   ],
   "source": [
    "ring_sizes = (6, 5)\n",
    "'{' + ','.join([str(rs) for rs in ring_sizes]) + '}'"
   ]
  },
  {
   "cell_type": "code",
   "execution_count": 123,
   "id": "00690532-a87e-4567-8797-256b9cae0cf6",
   "metadata": {},
   "outputs": [
    {
     "data": {
      "text/plain": [
       "()"
      ]
     },
     "execution_count": 123,
     "metadata": {},
     "output_type": "execute_result"
    }
   ],
   "source": [
    "tuple([])"
   ]
  },
  {
   "cell_type": "code",
   "execution_count": 90,
   "id": "4f681070-f801-4b31-bf7a-b5f1d3447d28",
   "metadata": {},
   "outputs": [],
   "source": [
    "smiles = 'OCC1=CC=Cc1=o'\n",
    "mol = Chem.MolFromSmiles(smiles)"
   ]
  },
  {
   "cell_type": "code",
   "execution_count": 91,
   "id": "bc9518a6-dc25-490f-a133-cb7f84a0efa1",
   "metadata": {},
   "outputs": [],
   "source": [
    "mol"
   ]
  },
  {
   "cell_type": "code",
   "execution_count": 84,
   "id": "3adc53a1-d9b5-42a8-a567-92f0b0545866",
   "metadata": {},
   "outputs": [
    {
     "name": "stderr",
     "output_type": "stream",
     "text": [
      "Atoms:\n",
      "\t0 8 O chg: 0  deg: 1 exp: 1 imp: 1 hyb: 4 arom?: 0 chi: 0\n",
      "\t1 6 C chg: 0  deg: 2 exp: 2 imp: 2 hyb: 4 arom?: 0 chi: 0\n",
      "\t2 6 C chg: 0  deg: 3 exp: 4 imp: 0 hyb: 3 arom?: 0 chi: 0\n",
      "\t3 6 C chg: 0  deg: 2 exp: 3 imp: 1 hyb: 3 arom?: 0 chi: 0\n",
      "\t4 6 C chg: 0  deg: 2 exp: 3 imp: 1 hyb: 3 arom?: 0 chi: 0\n",
      "\t5 6 C chg: 0  deg: 2 exp: 3 imp: 1 hyb: 3 arom?: 0 chi: 0\n",
      "\t6 6 C chg: 0  deg: 3 exp: 4 imp: 0 hyb: 3 arom?: 0 chi: 0\n",
      "\t7 8 O chg: 0  deg: 1 exp: 2 imp: 0 hyb: 3 arom?: 0 chi: 0\n",
      "Bonds:\n",
      "\t0 0->1 order: 1 conj?: 0 aromatic?: 0\n",
      "\t1 1->2 order: 1 conj?: 0 aromatic?: 0\n",
      "\t2 2->3 order: 2 conj?: 1 aromatic?: 0\n",
      "\t3 3->4 order: 1 conj?: 1 aromatic?: 0\n",
      "\t4 4->5 order: 2 conj?: 1 aromatic?: 0\n",
      "\t5 5->6 order: 1 conj?: 1 aromatic?: 0\n",
      "\t6 6->7 order: 2 conj?: 1 aromatic?: 0\n",
      "\t7 6->2 order: 1 conj?: 1 aromatic?: 0\n"
     ]
    }
   ],
   "source": [
    "mol.Debug()"
   ]
  },
  {
   "cell_type": "code",
   "execution_count": 47,
   "id": "a83397c3-9447-4d67-9244-bbcd8b63bc2b",
   "metadata": {},
   "outputs": [],
   "source": [
    "from genbench3d.geometry import ReferenceGeometry"
   ]
  },
  {
   "cell_type": "code",
   "execution_count": 49,
   "id": "628bb839-17cb-493f-bd55-a8795df327bc",
   "metadata": {},
   "outputs": [],
   "source": [
    "likelihoods = rg.get_likelihoods(mixture, samples)"
   ]
  },
  {
   "cell_type": "code",
   "execution_count": 50,
   "id": "098623f3-d898-4f62-9de4-a44f73b427d5",
   "metadata": {},
   "outputs": [
    {
     "name": "stderr",
     "output_type": "stream",
     "text": [
      "/home/bb596/ssd/miniforge3/envs/csd/lib/python3.9/site-packages/pandas/core/algorithms.py:485: DeprecationWarning: np.find_common_type is deprecated.  Please use `np.result_type` or `np.promote_types`.\n",
      "See https://numpy.org/devdocs/release/1.25.0-notes.html and the docs for more information.  (Deprecated NumPy 1.25)\n",
      "  common = np.find_common_type([values.dtype, comps.dtype], [])\n"
     ]
    },
    {
     "data": {
      "text/plain": [
       "<Axes: >"
      ]
     },
     "execution_count": 50,
     "metadata": {},
     "output_type": "execute_result"
    },
    {
     "data": {
      "image/png": "[encoded data removed]",
      "text/plain": [
       "<Figure size 640x480 with 1 Axes>"
      ]
     },
     "metadata": {},
     "output_type": "display_data"
    }
   ],
   "source": [
    "sns.lineplot(x=samples, y=likelihoods)"
   ]
  },
  {
   "cell_type": "code",
   "execution_count": 47,
   "id": "6d0626aa-86a5-4961-b9db-19b4aab3755c",
   "metadata": {},
   "outputs": [
    {
     "name": "stderr",
     "output_type": "stream",
     "text": [
      "  2%|█▋                                                                                                           | 136/8632 [00:01<01:37, 87.51it/s]"
     ]
    },
    {
     "name": "stdout",
     "output_type": "stream",
     "text": [
      "DatabasePool::entry( DatabaseEntryIdentifier )(): AKATAJ is not in the database\n"
     ]
    },
    {
     "name": "stderr",
     "output_type": "stream",
     "text": [
      "  2%|██▌                                                                                                          | 198/8632 [00:02<01:33, 90.48it/s]"
     ]
    },
    {
     "name": "stdout",
     "output_type": "stream",
     "text": [
      "DatabasePool::entry( DatabaseEntryIdentifier )(): FAJMIP is not in the database\n"
     ]
    },
    {
     "name": "stderr",
     "output_type": "stream",
     "text": [
      "  3%|██▉                                                                                                          | 233/8632 [00:02<01:25, 98.45it/s]"
     ]
    },
    {
     "name": "stdout",
     "output_type": "stream",
     "text": [
      "DatabasePool::entry( DatabaseEntryIdentifier )(): KONZEU is not in the database\n",
      "DatabasePool::entry( DatabaseEntryIdentifier )(): QIJZOY01 is not in the database\n"
     ]
    },
    {
     "name": "stderr",
     "output_type": "stream",
     "text": [
      "  5%|█████▎                                                                                                       | 423/8632 [00:04<01:30, 90.59it/s]"
     ]
    },
    {
     "name": "stdout",
     "output_type": "stream",
     "text": [
      "DatabasePool::entry( DatabaseEntryIdentifier )(): EDAXIQ01 is not in the database\n"
     ]
    },
    {
     "name": "stderr",
     "output_type": "stream",
     "text": [
      " 10%|██████████▊                                                                                                  | 858/8632 [00:10<01:48, 71.83it/s]"
     ]
    },
    {
     "name": "stdout",
     "output_type": "stream",
     "text": [
      "DatabasePool::entry( DatabaseEntryIdentifier )(): NICOAC04 is not in the database\n"
     ]
    },
    {
     "name": "stderr",
     "output_type": "stream",
     "text": [
      " 19%|█████████████████████                                                                                       | 1679/8632 [00:20<01:18, 88.99it/s]"
     ]
    },
    {
     "name": "stdout",
     "output_type": "stream",
     "text": [
      "DatabasePool::entry( DatabaseEntryIdentifier )(): CBMZPN26 is not in the database\n"
     ]
    },
    {
     "name": "stderr",
     "output_type": "stream",
     "text": [
      " 21%|██████████████████████▌                                                                                     | 1808/8632 [00:21<01:09, 98.78it/s]"
     ]
    },
    {
     "name": "stdout",
     "output_type": "stream",
     "text": [
      "DatabasePool::entry( DatabaseEntryIdentifier )(): OMAKOE is not in the database\n"
     ]
    },
    {
     "name": "stderr",
     "output_type": "stream",
     "text": [
      " 22%|███████████████████████▌                                                                                    | 1882/8632 [00:22<01:13, 91.98it/s]"
     ]
    },
    {
     "name": "stdout",
     "output_type": "stream",
     "text": [
      "DatabasePool::entry( DatabaseEntryIdentifier )(): WOBHUR01 is not in the database\n"
     ]
    },
    {
     "name": "stderr",
     "output_type": "stream",
     "text": [
      " 28%|█████████████████████████████▊                                                                              | 2380/8632 [00:28<01:13, 84.77it/s]"
     ]
    },
    {
     "name": "stdout",
     "output_type": "stream",
     "text": [
      "DatabasePool::entry( DatabaseEntryIdentifier )(): CBMZPN24 is not in the database\n"
     ]
    },
    {
     "name": "stderr",
     "output_type": "stream",
     "text": [
      " 32%|██████████████████████████████████▊                                                                         | 2778/8632 [00:33<01:08, 85.69it/s]"
     ]
    },
    {
     "name": "stdout",
     "output_type": "stream",
     "text": [
      "DatabasePool::entry( DatabaseEntryIdentifier )(): NICOAC03 is not in the database\n"
     ]
    },
    {
     "name": "stderr",
     "output_type": "stream",
     "text": [
      " 33%|███████████████████████████████████▋                                                                        | 2856/8632 [00:34<01:00, 96.08it/s]"
     ]
    },
    {
     "name": "stdout",
     "output_type": "stream",
     "text": [
      "DIYZAO\n"
     ]
    },
    {
     "name": "stderr",
     "output_type": "stream",
     "text": [
      " 40%|███████████████████████████████████████████▋                                                                | 3489/8632 [00:42<01:26, 59.45it/s]"
     ]
    },
    {
     "name": "stdout",
     "output_type": "stream",
     "text": [
      "DatabasePool::entry( DatabaseEntryIdentifier )(): COTZAN06 is not in the database\n"
     ]
    },
    {
     "name": "stderr",
     "output_type": "stream",
     "text": [
      " 51%|███████████████████████████████████████████████████████▎                                                    | 4416/8632 [00:53<00:43, 97.19it/s]"
     ]
    },
    {
     "name": "stdout",
     "output_type": "stream",
     "text": [
      "DatabasePool::entry( DatabaseEntryIdentifier )(): JOHJIB02 is not in the database\n"
     ]
    },
    {
     "name": "stderr",
     "output_type": "stream",
     "text": [
      " 52%|████████████████████████████████████████████████████████▋                                                   | 4530/8632 [00:55<01:08, 59.52it/s]"
     ]
    },
    {
     "name": "stdout",
     "output_type": "stream",
     "text": [
      "DatabasePool::entry( DatabaseEntryIdentifier )(): JOHJIB03 is not in the database\n"
     ]
    },
    {
     "name": "stderr",
     "output_type": "stream",
     "text": [
      " 55%|███████████████████████████████████████████████████████████▊                                                | 4784/8632 [00:58<00:49, 78.08it/s]"
     ]
    },
    {
     "name": "stdout",
     "output_type": "stream",
     "text": [
      "DatabasePool::entry( DatabaseEntryIdentifier )(): DUWXEA is not in the database\n"
     ]
    },
    {
     "name": "stderr",
     "output_type": "stream",
     "text": [
      " 61%|██████████████████████████████████████████████████████████████████                                          | 5279/8632 [01:04<00:38, 86.53it/s]"
     ]
    },
    {
     "name": "stdout",
     "output_type": "stream",
     "text": [
      "DatabasePool::entry( DatabaseEntryIdentifier )(): CBMZPN25 is not in the database\n"
     ]
    },
    {
     "name": "stderr",
     "output_type": "stream",
     "text": [
      " 65%|█████████████████████████████████████████████████████████████████████▋                                      | 5573/8632 [01:08<00:40, 75.96it/s]"
     ]
    },
    {
     "name": "stdout",
     "output_type": "stream",
     "text": [
      "DatabasePool::entry( DatabaseEntryIdentifier )(): FUFXOV is not in the database\n"
     ]
    },
    {
     "name": "stderr",
     "output_type": "stream",
     "text": [
      " 72%|█████████████████████████████████████████████████████████████████████████████▊                              | 6218/8632 [01:15<00:25, 93.18it/s]"
     ]
    },
    {
     "name": "stdout",
     "output_type": "stream",
     "text": [
      "DatabasePool::entry( DatabaseEntryIdentifier )(): UNEYIV03 is not in the database\n"
     ]
    },
    {
     "name": "stderr",
     "output_type": "stream",
     "text": [
      " 78%|███████████████████████████████████████████████████████████████████████████████████▊                        | 6701/8632 [01:21<00:23, 82.18it/s]"
     ]
    },
    {
     "name": "stdout",
     "output_type": "stream",
     "text": [
      "DatabasePool::entry( DatabaseEntryIdentifier )(): CASWOK is not in the database\n"
     ]
    },
    {
     "name": "stderr",
     "output_type": "stream",
     "text": [
      " 84%|██████████████████████████████████████████████████████████████████████████████████████████▌                 | 7237/8632 [01:27<00:16, 84.13it/s]"
     ]
    },
    {
     "name": "stdout",
     "output_type": "stream",
     "text": [
      "DatabasePool::entry( DatabaseEntryIdentifier )(): QQQAUG18 is not in the database\n"
     ]
    },
    {
     "name": "stderr",
     "output_type": "stream",
     "text": [
      " 88%|███████████████████████████████████████████████████████████████████████████████████████████████▍            | 7632/8632 [01:32<00:13, 73.43it/s]"
     ]
    },
    {
     "name": "stdout",
     "output_type": "stream",
     "text": [
      "DatabasePool::entry( DatabaseEntryIdentifier )(): KAHLOX is not in the database\n"
     ]
    },
    {
     "name": "stderr",
     "output_type": "stream",
     "text": [
      " 90%|█████████████████████████████████████████████████████████████████████████████████████████████████▍          | 7790/8632 [01:34<00:09, 86.21it/s]"
     ]
    },
    {
     "name": "stdout",
     "output_type": "stream",
     "text": [
      "DatabasePool::entry( DatabaseEntryIdentifier )(): ORIGON is not in the database\n"
     ]
    },
    {
     "name": "stderr",
     "output_type": "stream",
     "text": [
      " 93%|████████████████████████████████████████████████████████████████████████████████████████████████████▊       | 8059/8632 [01:37<00:07, 76.70it/s]"
     ]
    },
    {
     "name": "stdout",
     "output_type": "stream",
     "text": [
      "DatabasePool::entry( DatabaseEntryIdentifier )(): MALXEF is not in the database\n"
     ]
    },
    {
     "name": "stderr",
     "output_type": "stream",
     "text": [
      " 96%|███████████████████████████████████████████████████████████████████████████████████████████████████████▍    | 8267/8632 [01:40<00:04, 74.18it/s]"
     ]
    },
    {
     "name": "stdout",
     "output_type": "stream",
     "text": [
      "DatabasePool::entry( DatabaseEntryIdentifier )(): WOBHUR is not in the database\n"
     ]
    },
    {
     "name": "stderr",
     "output_type": "stream",
     "text": [
      "100%|████████████████████████████████████████████████████████████████████████████████████████████████████████████| 8632/8632 [01:44<00:00, 82.53it/s]\n"
     ]
    }
   ],
   "source": [
    "writer = Chem.SDWriter('pattern_mols.sdf')\n",
    "\n",
    "for csd_id in tqdm(subset_csd_ids):\n",
    "    try:\n",
    "        original_mol = mol_iterator.molecule(csd_id)\n",
    "        if isinstance(original_mol, Molecule):\n",
    "            try:\n",
    "                mol = ccdc_mol_to_rdkit_mol(original_mol)\n",
    "            except Exception as e:\n",
    "                logging.warning('CCDC mol could not be converted to RDKit :' + str(e))\n",
    "                mol = None\n",
    "        else:\n",
    "            mol = original_mol\n",
    "        \n",
    "        if mol is not None:\n",
    "            assert isinstance(mol, Mol)\n",
    "            \n",
    "            mol_bond_values = rg.get_mol_bond_lengths(mol)\n",
    "            for bond_pattern, bond_values in mol_bond_values.items():\n",
    "                if bond_pattern == pattern:\n",
    "                    # print(f'pattern found: {bond_values}')\n",
    "                    writer.write(mol)\n",
    "                    if any([value > 1.53 for value in bond_values]):\n",
    "                        print(mol.GetProp('_Name'))\n",
    "\n",
    "    except Exception as e:\n",
    "        print(e)\n",
    "\n",
    "writer.close()"
   ]
  },
  {
   "cell_type": "code",
   "execution_count": null,
   "id": "a7b275f4-771d-4110-b813-cfeebab53f7e",
   "metadata": {},
   "outputs": [],
   "source": []
  },
  {
   "cell_type": "code",
   "execution_count": null,
   "id": "2922983c-dc36-4fc9-9eb7-fb317e53dc94",
   "metadata": {},
   "outputs": [],
   "source": []
  },
  {
   "cell_type": "code",
   "execution_count": null,
   "id": "110b4849-5215-45b6-a173-5829b54506f8",
   "metadata": {},
   "outputs": [],
   "source": []
  },
  {
   "cell_type": "code",
   "execution_count": null,
   "id": "6b496b3b-5e0b-4fb5-9b7c-983f3172781c",
   "metadata": {},
   "outputs": [],
   "source": []
  }
 ],
 "metadata": {
  "kernelspec": {
   "display_name": "Python 3 (ipykernel)",
   "language": "python",
   "name": "python3"
  },
  "language_info": {
   "codemirror_mode": {
    "name": "ipython",
    "version": 3
   },
   "file_extension": ".py",
   "mimetype": "text/x-python",
   "name": "python",
   "nbconvert_exporter": "python",
   "pygments_lexer": "ipython3",
   "version": "3.9.18"
  }
 },
 "nbformat": 4,
 "nbformat_minor": 5
}
